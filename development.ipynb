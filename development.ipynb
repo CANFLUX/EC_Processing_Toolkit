{
 "cells": [
  {
   "cell_type": "code",
   "execution_count": 24,
   "metadata": {},
   "outputs": [
    {
     "data": {
      "text/plain": [
       "{'Database': {'Purpose': 'Binary (float32) timeseries arrays and corresponding posix timemstamp (float64) in a subdirectory structure that partitions data by Year, siteID, and cleaning stage',\n",
       "  'Structure': 'YYYY/siteID/stage',\n",
       "  'Metadata': {'Data_traces': {'dtype': 'float32', 'precision': 4},\n",
       "   'POSIX_timestamp': {'dtype': 'float64', 'precision': 8, 'base_unit': 's'},\n",
       "   'Time_resolution': '30min'},\n",
       "  'inventory': None},\n",
       " 'rawSiteData': {'Purpose': 'Source files for the project, stored by with an inventory to track whether files have been dumped to the database.  Contents are organized by siteID, Type, Year, and Month, if timestamps are can be parsed from the filename or just siteID and Type if no time information available.',\n",
       "  'inventory': None},\n",
       " 'config_files': {'Purpose': 'Configuration files', 'inventory': None}}"
      ]
     },
     "execution_count": 24,
     "metadata": {},
     "output_type": "execute_result"
    }
   ],
   "source": [
    "import os,shutil,importlib\n",
    "import ecProject as dev\n",
    "importlib.reload(dev)\n",
    "\n",
    "projectPath = os.getcwd()+'/temp/'\n",
    "mp = dev.myProject(projectPath)\n",
    "mp.projectConfig\n",
    "# if os.path.isdir(projectPath):\n",
    "#     print(projectPath)\n",
    "#     shutil.rmtree(projectPath)\n",
    "# myProject = dev.makeProject(projectPath)"
   ]
  },
  {
   "cell_type": "code",
   "execution_count": 68,
   "metadata": {},
   "outputs": [
    {
     "name": "stdout",
     "output_type": "stream",
     "text": [
      "FIL CR1000\n",
      "Searching  D:\\MetStationData\\FishIsland\n",
      "Warning!!\n",
      "\n",
      "Unable to parse date pattern from input file, proceeding without\n",
      "Creating template:  D:\\temp\\ArcticFlux\\rawSiteData/FIL/TOA5/Met/metaData.yml \n",
      "\n",
      "Edit this file before proceeding with import\n",
      "\n",
      "\n",
      "Copying:[████████████████████████████████████████████████████████████] 1/1 \n",
      "\n",
      "SCL Met_Data\n",
      "Outstanding imports:  1\n",
      "Searching  D:\\highfreq\\SCL\\CardConvertDump\n",
      "Creating template:  D:\\temp\\ArcticFlux\\rawSiteData/SCL/TOA5/Met/metaData.yml \n",
      "\n",
      "Edit this file before proceeding with import\n",
      "\n",
      "\n",
      "Copying:[████████████████████████████████████████████████████████████] 10/10 \n",
      "\n",
      "Copying:[████████████████████████████████████████████████████████████] 31/31 \n",
      "\n",
      "Copying:[████████████████████████████████████████████████████████████] 13/13 \n",
      "\n"
     ]
    }
   ],
   "source": [
    "import os,shutil,importlib\n",
    "import development as dev\n",
    "importlib.reload(dev)\n",
    "\n",
    "projectPath = 'D:/temp/ArcticFlux'\n",
    "\n",
    "for ID,tag,dIn in zip(['FIL','SCL'],\n",
    "                  ['CR1000','Met_Data'],\n",
    "                  ['D:\\\\MetStationData\\\\FishIsland',\n",
    "                  'D:\\\\highfreq\\SCL\\\\CardConvertDump'\n",
    "                  ]\n",
    "                  ):\n",
    "    print(ID,tag)\n",
    "    myProject = dev.dataDump(projectPath,\n",
    "                            siteID=ID,\n",
    "                            dIn=dIn,\n",
    "                            fileType='TOA5',\n",
    "                            searchTag = tag,\n",
    "                            subPath='Met'\n",
    "                            )\n"
   ]
  }
 ],
 "metadata": {
  "kernelspec": {
   "display_name": "Python 3",
   "language": "python",
   "name": "python3"
  },
  "language_info": {
   "codemirror_mode": {
    "name": "ipython",
    "version": 3
   },
   "file_extension": ".py",
   "mimetype": "text/x-python",
   "name": "python",
   "nbconvert_exporter": "python",
   "pygments_lexer": "ipython3",
   "version": "3.11.5"
  }
 },
 "nbformat": 4,
 "nbformat_minor": 2
}
