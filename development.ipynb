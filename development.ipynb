{
 "cells": [
  {
   "cell_type": "code",
   "execution_count": 5,
   "metadata": {},
   "outputs": [],
   "source": [
    "import os,shutil,importlib\n",
    "import development as dev\n",
    "importlib.reload(dev)\n",
    "\n",
    "projectPath = 'D:/temp/ArcticFlux'\n",
    "if os.path.isdir(projectPath):\n",
    "    shutil.rmtree(projectPath)\n",
    "myProject = dev.makeProject(projectPath)"
   ]
  },
  {
   "cell_type": "code",
   "execution_count": 68,
   "metadata": {},
   "outputs": [
    {
     "name": "stdout",
     "output_type": "stream",
     "text": [
      "FIL CR1000\n",
      "Searching  D:\\MetStationData\\FishIsland\n",
      "Warning!!\n",
      "\n",
      "Unable to parse date pattern from input file, proceeding without\n",
      "Creating template:  D:\\temp\\ArcticFlux\\rawSiteData/FIL/TOA5/Met/metaData.yml \n",
      "\n",
      "Edit this file before proceeding with import\n",
      "\n",
      "\n",
      "Copying:[████████████████████████████████████████████████████████████] 1/1 \n",
      "\n",
      "SCL Met_Data\n",
      "Outstanding imports:  1\n",
      "Searching  D:\\highfreq\\SCL\\CardConvertDump\n",
      "Creating template:  D:\\temp\\ArcticFlux\\rawSiteData/SCL/TOA5/Met/metaData.yml \n",
      "\n",
      "Edit this file before proceeding with import\n",
      "\n",
      "\n",
      "Copying:[████████████████████████████████████████████████████████████] 10/10 \n",
      "\n",
      "Copying:[████████████████████████████████████████████████████████████] 31/31 \n",
      "\n",
      "Copying:[████████████████████████████████████████████████████████████] 13/13 \n",
      "\n"
     ]
    }
   ],
   "source": [
    "import os,shutil,importlib\n",
    "import development as dev\n",
    "importlib.reload(dev)\n",
    "\n",
    "projectPath = 'D:/temp/ArcticFlux'\n",
    "\n",
    "for ID,tag,dIn in zip(['FIL','SCL'],\n",
    "                  ['CR1000','Met_Data'],\n",
    "                  ['D:\\\\MetStationData\\\\FishIsland',\n",
    "                  'D:\\\\highfreq\\SCL\\\\CardConvertDump'\n",
    "                  ]\n",
    "                  ):\n",
    "    print(ID,tag)\n",
    "    myProject = dev.dataDump(projectPath,\n",
    "                            siteID=ID,\n",
    "                            dIn=dIn,\n",
    "                            fileType='TOA5',\n",
    "                            searchTag = tag,\n",
    "                            subPath='Met'\n",
    "                            )\n"
   ]
  }
 ],
 "metadata": {
  "kernelspec": {
   "display_name": "Python 3",
   "language": "python",
   "name": "python3"
  },
  "language_info": {
   "codemirror_mode": {
    "name": "ipython",
    "version": 3
   },
   "file_extension": ".py",
   "mimetype": "text/x-python",
   "name": "python",
   "nbconvert_exporter": "python",
   "pygments_lexer": "ipython3",
   "version": "3.11.5"
  }
 },
 "nbformat": 4,
 "nbformat_minor": 2
}
