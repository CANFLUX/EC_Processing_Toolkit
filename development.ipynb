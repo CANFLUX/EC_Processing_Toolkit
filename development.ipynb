{
 "cells": [
  {
   "cell_type": "code",
   "execution_count": 274,
   "metadata": {},
   "outputs": [
    {
     "name": "stdout",
     "output_type": "stream",
     "text": [
      "e:\\EC_Processing_Toolkit\n",
      "e:\\EC_Processing_Toolkit/temp/output\n"
     ]
    }
   ],
   "source": [
    "import os,shutil,importlib\n",
    "import ecProject as dev\n",
    "importlib.reload(dev)\n",
    "print(os.getcwd())\n",
    "\n",
    "projectPath = os.getcwd()+'/temp/output'\n",
    "if os.path.isdir(projectPath):\n",
    "    print(projectPath)\n",
    "    shutil.rmtree(projectPath)\n",
    "myProject = dev.makeProject(projectPath)"
   ]
  },
  {
   "cell_type": "code",
   "execution_count": 275,
   "metadata": {},
   "outputs": [],
   "source": [
    "# myProject = dev.myProject(projectPath)\n",
    "\n",
    "# T = myProject.unpackPath(myProject.currentView.fileList)\n",
    "\n",
    "# myProject.repackPath(T)"
   ]
  },
  {
   "cell_type": "code",
   "execution_count": 276,
   "metadata": {},
   "outputs": [],
   "source": [
    "importlib.reload(dev)\n",
    "\n",
    "for siteID,inputPath in {\n",
    "    #'ILL':'IL_EC',\n",
    "    'FIL':'FI_EC',\n",
    "    # 'SCL':[[r'GSC_EC',s] for s in ['20240724','20240914']]\n",
    "    'SCL':'GSC_EC'\n",
    "    }.items():\n",
    "    if type(inputPath) == str:\n",
    "        inputPath = os.path.join(os.getcwd(),'temp','input_data',inputPath)\n",
    "    else:\n",
    "        for i in range(len(inputPath)):\n",
    "            x = inputPath[i][0]\n",
    "            inputPath[i][0] = os.path.join(os.getcwd(),'temp','input_data',x)\n",
    "    myProject = dev.importRawData(\n",
    "        projectPath,\n",
    "        siteID = siteID,\n",
    "        inputPath = inputPath\n",
    "        )\n"
   ]
  },
  {
   "cell_type": "code",
   "execution_count": null,
   "metadata": {},
   "outputs": [
    {
     "data": {
      "text/plain": [
       "{'z.a.b': ['x'], 'z.a.c': 'z'}"
      ]
     },
     "execution_count": 273,
     "metadata": {},
     "output_type": "execute_result"
    }
   ],
   "source": [
    "def find(element,nest):\n",
    "    keys = element.split('.')\n",
    "    rv = nest\n",
    "    for key in keys:\n",
    "        rv = rv[key]\n",
    "    return rv\n",
    "importlib.reload(dev)\n",
    "\n",
    "x = {'z':{'a':{'b':['x'],'c':'z'}}}\n",
    "\n",
    "\n",
    "mp = dev.myProject(projectPath)\n",
    "t = mp.unpackDict(x,format='Nest')\n",
    "t"
   ]
  },
  {
   "cell_type": "code",
   "execution_count": 284,
   "metadata": {},
   "outputs": [
    {
     "name": "stdout",
     "output_type": "stream",
     "text": [
      "comp:  self\n",
      "overwriting  fileContents.metadata.Instruments.instr_1_height\n",
      "overwriting  fileContents.metadata.Instruments.instr_1_north_offset\n",
      "overwriting  e:\\EC_Processing_Toolkit\\temp\\output\\rawData\\FIL\\GHG_LI-7200RS_AIU-1697\\_metadata_Smartflux8.0.0_2017-06-22T1930_1Hz.yml\n",
      "comp:  _metadata_Smartflux8.0.0_2017-06-22T1930_1Hz.yml\n",
      "overwriting  fileContents.metadata.Instruments.instr_1_height  with  2.89\n",
      "overwriting  e:\\EC_Processing_Toolkit\\temp\\output\\rawData\\FIL\\GHG_LI-7200RS_AIU-1697\\_metadata_Smartflux8.0.0_2017-07-26T0130_10Hz.yml\n",
      "comp:  _metadata_Smartflux8.0.0_2017-07-26T0130_10Hz.yml\n",
      "comp:  _metadata_SCL_2024_07_20_50ms_2024-07-23T0230.yml\n"
     ]
    }
   ],
   "source": [
    "import yaml\n",
    "importlib.reload(dev)\n",
    "myProject = dev.myProject(projectPath)\n",
    "myProject.currentView.fileList\n",
    "fl = myProject.currentView.fileList.copy()\n",
    "\n",
    "def mdCorrect(log):\n",
    "    for incoming,comp in log.items():\n",
    "        if comp is not None:\n",
    "            incoming = os.path.join(table,incoming)\n",
    "            with open(incoming) as f:\n",
    "                base = yaml.safe_load(f)\n",
    "                base = myProject.unpackDict(base,format='Nest')\n",
    "            ComparedWith = comp['ComparedWith']\n",
    "            print('comp: ',ComparedWith)\n",
    "            values_changed = comp['values_changed']\n",
    "            unpk = myProject.unpackDict(values_changed,format='Nest')\n",
    "            keys = list(unpk.keys())\n",
    "            chg = False\n",
    "            for new,old,accept in zip(*[iter(keys)]*3):\n",
    "                if not unpk[accept]:\n",
    "                    chg = True\n",
    "                    print('overwriting ',old.rsplit('.',1)[0])\n",
    "                    base[old.rsplit('.',1)[0]] = unpk[old]\n",
    "                elif ComparedWith == 'self':\n",
    "                    chg = True\n",
    "                    print('overwriting ',new.rsplit('.',1)[0])\n",
    "                    base[new.rsplit('.',1)[0]] = unpk[new]\n",
    "                elif base[new.rsplit('.',1)[0]] != unpk[new]:\n",
    "                    chg = True\n",
    "                    base[new.rsplit('.',1)[0]] = unpk[new]\n",
    "                    print('overwriting ',new.rsplit('.',1)[0],' with ',unpk[new])\n",
    "            if chg == True:\n",
    "                base = myProject.repackDict(base,format='Nest')\n",
    "                print('overwriting ',incoming)\n",
    "                with open(incoming,'w+') as f:\n",
    "                    yaml.dump(base,f,sort_keys=False)\n",
    "\n",
    "for siteID,tables in fl.items():\n",
    "    for table,view in tables.items():\n",
    "        table = os.path.join(myProject.rawPath,siteID,table)\n",
    "        log = os.path.join(table,'_changeLog.yml')\n",
    "        if os.path.isfile(log):\n",
    "            with open(log) as f:\n",
    "                log = yaml.safe_load(f)\n",
    "            mdCorrect(log)"
   ]
  },
  {
   "cell_type": "code",
   "execution_count": 257,
   "metadata": {},
   "outputs": [
    {
     "name": "stdout",
     "output_type": "stream",
     "text": [
      "1\n"
     ]
    }
   ],
   "source": [
    "a = 0 + True\n",
    "print(a)"
   ]
  },
  {
   "cell_type": "code",
   "execution_count": 149,
   "metadata": {},
   "outputs": [
    {
     "data": {
      "text/plain": [
       "'a\\\\root\\\\b.xtx'"
      ]
     },
     "execution_count": 149,
     "metadata": {},
     "output_type": "execute_result"
    }
   ],
   "source": [
    "# firstStage = myProject.projectConfig['Processing']['firstStage'].copy()\n",
    "# default = firstStage.pop('defaultVariable')\n",
    "# for variable,info in myProject.current['Header'].items():\n",
    "#     firstStage[variable] = default.copy()\n",
    "#     firstStage[variable]['unit'] = info['unit']\n",
    "#     if firstStage[variable]['dataType']!=info['dataType']:\n",
    "#         firstStage[variable]['import']= False\n",
    "#         firstStage[variable]['dataType']=info['dataType']\n",
    "\n",
    "# import yaml\n",
    "\n",
    "# print(yaml.dump(firstStage,allow_unicode=True,sort_keys=False))\n",
    "import os\n",
    "os.path.join('a','root',os.path.split('somefile.txt')[0],'b.xtx')"
   ]
  },
  {
   "cell_type": "code",
   "execution_count": 150,
   "metadata": {},
   "outputs": [
    {
     "name": "stdout",
     "output_type": "stream",
     "text": [
      "GHG_LI-7200RS_AIU-1697\n",
      "_metadata_Smartflux8.0.0_1Hz_2017-06-22T1930.yml\n",
      "{'Type': 'GHG', 'StationName': '', 'Logger': 'LI-7200RS', 'SerialNo': 'AIU-1697', 'Program': 'Smartflux8.0.0', 'Table': None, 'Timestamp': '2017-06-22T1930', 'Frequency': '1Hz', 'Timezone': 'US/Mountain', 'fileContents': {'data': {'Model': 'LI-7200RS Enclosed CO2/H2O Analyzer', 'SN': '72H-0816', 'Instrument': 'AIU-1697', 'File Type': '2', 'Software Version': '8.0.0', 'Timestamp': '19:30:00', 'Timezone': 'US/Mountain', 'Header': ['DATAH', 'Seconds', 'Nanoseconds', 'Sequence Number', 'Diagnostic Value', 'Diagnostic Value 2', 'Date', 'Time', 'CO2 Absorptance', 'H2O Absorptance', 'CO2 (mmol/m^3)', 'CO2 (mg/m^3)', 'H2O (mmol/m^3)', 'H2O (g/m^3)', 'Block Temperature (C)', 'Total Pressure (kPa)', 'Box Pressure (kPa)', 'Head Pressure (kPa)', 'Aux 1 - U (m/s)', 'Aux 2 - V (m/s)', 'Aux 3 - W (m/s)', 'Aux 4 - SOS (m/s)', 'Cooler Voltage (V)', 'Chopper Cooler Voltage (V)', 'Vin SmartFlux (V)', 'CO2 (umol/mol)', 'CO2 dry(umol/mol)', 'H2O (mmol/mol)', 'H2O dry(mmol/mol)', 'Dew Point (C)', 'Cell Temperature (C)', 'Temperature In (C)', 'Temperature Out (C)', 'Average Signal Strength', 'CO2 Signal Strength', 'H2O Signal Strength', 'Delta Signal Strength', 'Flow Rate (slpm)', 'Flow Rate (lpm)', 'Flow Pressure (kPa)', 'Flow Power (V)', 'Flow Drive (%)', 'H2O Sample', 'H2O Reference', 'CO2 Sample', 'CO2 Reference', 'HIT Power (W)', 'Vin HIT (V)', 'CH4 Seconds', 'CH4 Nanoseconds', 'CH4 (umol/mol)', 'CH4 (mmol/m^3)', 'CH4 Temperature', 'CH4 Pressure', 'CH4 Signal Strength', 'CH4 Diagnostic Value', 'CH4 Drop Rate (%)', 'CHK']}, 'status': {'Model': 'LI-7700', 'SN': 'TG1-0452', 'Instrument': 'TG1-0452', 'File Type': '2', 'Software Version': '1.0.23', 'Timestamp': '19:30:00', 'Timezone': 'US/Mountain', 'Header': ['DATASTATH', 'MSEC', 'SECONDS', 'NANOSECONDS', 'DIAG', 'RSSI', 'REFRSSI', 'LCTSETPT', 'LCTACTUAL', 'BCTSETPT', 'BCTACTUAL', 'CHASSISTEMP', 'OPTICSTEMP', 'OPTICSRH', 'AUXREFTEMP', 'MOTORSETPT', 'MOTORACTUAL', 'USB', 'USBCAPACITY', 'USBFREESPACE', 'REF', 'GND', 'OPTICSTDELTA', 'BOTTOMHEATERW', 'TOPHEATERW', 'CHK']}, 'metadata': {'Site': {'site_name': 'Mackenzie2017', 'altitude': '-5.4', 'latitude': '69.37230682', 'longitude': '-134.8810883', 'canopy_height': '5', 'displacement_height': '0', 'roughness_length': '0'}, 'Station': {'station_name': '', 'logger_id': 'AIU-1697', 'logger_sw_version': '8.0.0'}, 'Timing': {'acquisition_frequency': '1.0', 'file_duration': '30'}, 'Instruments': {'instr_1_manufacturer': 'csi', 'instr_1_model': 'csat3_1', 'instr_1_sn': '', 'instr_1_sw_version': '4.0', 'instr_1_id': '', 'instr_1_height': '3', 'instr_1_wformat': 'uvw', 'instr_1_wref': 'spar', 'instr_1_north_offset': '0', 'instr_1_head_corr': '1', 'instr_1_northward_separation': '0.0', 'instr_1_eastward_separation': '0.0', 'instr_1_vertical_separation': '0.0', 'instr_2_manufacturer': 'licor', 'instr_2_model': 'li7200rs_1', 'instr_2_sn': '72H-0816', 'instr_2_id': 'AIU-1697', 'instr_2_sw_version': '8.0.0', 'instr_2_tube_length': '33', 'instr_2_tube_diameter': '5', 'instr_2_tube_flowrate': '16.05', 'instr_2_northward_separation': '0', 'instr_2_eastward_separation': '5', 'instr_2_vertical_separation': '0.0', 'instr_3_manufacturer': 'licor', 'instr_3_model': 'li7700_2', 'instr_3_sn': 'TG1-0452', 'instr_3_id': 'TG1-0452', 'instr_3_sw_version': '1.0.23', 'instr_3_tube_length': '0.0', 'instr_3_tube_diameter': '0.0', 'instr_3_tube_flowrate': '0.0', 'instr_3_northward_separation': '0', 'instr_3_eastward_separation': '15', 'instr_3_vertical_separation': '0'}, 'FileDescription': {'separator': 'tab', 'flag_discards_if_above': '0', 'header_rows': '8', 'data_label': 'DATA', 'col_1_variable': 'ignore', 'col_1_instrument': 'li7200rs_1', 'col_1_measure_type': '', 'col_1_unit_in': '', 'col_1_conversion': 'none', 'col_1_min_value': '0', 'col_1_max_value': '0', 'col_1_unit_out': '', 'col_1_a_value': '0', 'col_1_b_value': '0', 'col_1_nom_timelag': '0', 'col_1_min_timelag': '0.0', 'col_1_max_timelag': '0', 'col_2_variable': 'ignore', 'col_2_instrument': 'li7200rs_1', 'col_2_measure_type': '', 'col_2_unit_in': '', 'col_2_conversion': 'none', 'col_2_min_value': '0', 'col_2_max_value': '0', 'col_2_unit_out': '', 'col_2_a_value': '0', 'col_2_b_value': '0', 'col_2_nom_timelag': '0', 'col_2_min_timelag': '0.0', 'col_2_max_timelag': '0', 'col_3_variable': 'ignore', 'col_3_instrument': 'li7200rs_1', 'col_3_measure_type': '', 'col_3_unit_in': '', 'col_3_conversion': 'none', 'col_3_min_value': '0', 'col_3_max_value': '0', 'col_3_unit_out': '', 'col_3_a_value': '0', 'col_3_b_value': '0', 'col_3_nom_timelag': '0', 'col_3_min_timelag': '0.0', 'col_3_max_timelag': '0', 'col_4_variable': 'diag_72', 'col_4_instrument': 'li7200rs_1', 'col_4_measure_type': '', 'col_4_unit_in': '', 'col_4_conversion': 'none', 'col_4_min_value': '0', 'col_4_max_value': '0', 'col_4_unit_out': '', 'col_4_a_value': '0', 'col_4_b_value': '0', 'col_4_nom_timelag': '0', 'col_4_min_timelag': '0.0', 'col_4_max_timelag': '0', 'col_5_variable': 'ignore', 'col_5_instrument': 'li7200rs_1', 'col_5_measure_type': '', 'col_5_unit_in': '', 'col_5_conversion': 'none', 'col_5_min_value': '0', 'col_5_max_value': '0', 'col_5_unit_out': '', 'col_5_a_value': '0', 'col_5_b_value': '0', 'col_5_nom_timelag': '0', 'col_5_min_timelag': '0.0', 'col_5_max_timelag': '0', 'col_6_variable': 'not_numeric', 'col_6_instrument': 'li7200rs_1', 'col_6_measure_type': '', 'col_6_unit_in': '', 'col_6_conversion': 'none', 'col_6_min_value': '0', 'col_6_max_value': '0', 'col_6_unit_out': '', 'col_6_a_value': '0', 'col_6_b_value': '0', 'col_6_nom_timelag': '0', 'col_6_min_timelag': '0.0', 'col_6_max_timelag': '0', 'col_7_variable': 'not_numeric', 'col_7_instrument': 'li7200rs_1', 'col_7_measure_type': '', 'col_7_unit_in': '', 'col_7_conversion': 'none', 'col_7_min_value': '0', 'col_7_max_value': '0', 'col_7_unit_out': '', 'col_7_a_value': '0', 'col_7_b_value': '0', 'col_7_nom_timelag': '0', 'col_7_min_timelag': '0.0', 'col_7_max_timelag': '0', 'col_8_variable': 'ignore', 'col_8_instrument': 'li7200rs_1', 'col_8_measure_type': '', 'col_8_unit_in': '', 'col_8_conversion': 'none', 'col_8_min_value': '0', 'col_8_max_value': '0', 'col_8_unit_out': '', 'col_8_a_value': '0', 'col_8_b_value': '0', 'col_8_nom_timelag': '0', 'col_8_min_timelag': '0.0', 'col_8_max_timelag': '0', 'col_9_variable': 'ignore', 'col_9_instrument': 'li7200rs_1', 'col_9_measure_type': '', 'col_9_unit_in': '', 'col_9_conversion': 'none', 'col_9_min_value': '0', 'col_9_max_value': '0', 'col_9_unit_out': '', 'col_9_a_value': '0', 'col_9_b_value': '0', 'col_9_nom_timelag': '0', 'col_9_min_timelag': '0.0', 'col_9_max_timelag': '0', 'col_10_variable': 'co2', 'col_10_instrument': 'li7200rs_1', 'col_10_measure_type': 'molar_density', 'col_10_unit_in': 'mmol_m3', 'col_10_conversion': 'none', 'col_10_min_value': '0', 'col_10_max_value': '0', 'col_10_unit_out': '', 'col_10_a_value': '0', 'col_10_b_value': '0', 'col_10_nom_timelag': '0.0242043', 'col_10_min_timelag': '0.0', 'col_10_max_timelag': '0.0484085', 'col_11_variable': 'ignore', 'col_11_instrument': 'li7200rs_1', 'col_11_measure_type': '', 'col_11_unit_in': '', 'col_11_conversion': 'none', 'col_11_min_value': '0', 'col_11_max_value': '0', 'col_11_unit_out': '', 'col_11_a_value': '0', 'col_11_b_value': '0', 'col_11_nom_timelag': '0', 'col_11_min_timelag': '0.0', 'col_11_max_timelag': '0', 'col_12_variable': 'h2o', 'col_12_instrument': 'li7200rs_1', 'col_12_measure_type': 'molar_density', 'col_12_unit_in': 'mmol_m3', 'col_12_conversion': 'none', 'col_12_min_value': '0', 'col_12_max_value': '0', 'col_12_unit_out': '', 'col_12_a_value': '0', 'col_12_b_value': '0', 'col_12_nom_timelag': '0.0242043', 'col_12_min_timelag': '0.0', 'col_12_max_timelag': '0.242043', 'col_13_variable': 'ignore', 'col_13_instrument': 'li7200rs_1', 'col_13_measure_type': '', 'col_13_unit_in': '', 'col_13_conversion': 'none', 'col_13_min_value': '0', 'col_13_max_value': '0', 'col_13_unit_out': '', 'col_13_a_value': '0', 'col_13_b_value': '0', 'col_13_nom_timelag': '0', 'col_13_min_timelag': '0.0', 'col_13_max_timelag': '0', 'col_14_variable': 'ignore', 'col_14_instrument': 'li7200rs_1', 'col_14_measure_type': '', 'col_14_unit_in': 'celsius', 'col_14_conversion': 'none', 'col_14_min_value': '0', 'col_14_max_value': '0', 'col_14_unit_out': '', 'col_14_a_value': '0', 'col_14_b_value': '0', 'col_14_nom_timelag': '0', 'col_14_min_timelag': '0.0', 'col_14_max_timelag': '0', 'col_15_variable': 'int_p', 'col_15_instrument': 'li7200rs_1', 'col_15_measure_type': '', 'col_15_unit_in': 'kpa', 'col_15_conversion': 'none', 'col_15_min_value': '0', 'col_15_max_value': '0', 'col_15_unit_out': '', 'col_15_a_value': '0', 'col_15_b_value': '0', 'col_15_nom_timelag': '0', 'col_15_min_timelag': '0.0', 'col_15_max_timelag': '0', 'col_16_variable': 'air_p', 'col_16_instrument': 'li7200rs_1', 'col_16_measure_type': '', 'col_16_unit_in': 'kpa', 'col_16_conversion': 'none', 'col_16_min_value': '0', 'col_16_max_value': '0', 'col_16_unit_out': '', 'col_16_a_value': '0', 'col_16_b_value': '0', 'col_16_nom_timelag': '0', 'col_16_min_timelag': '0.0', 'col_16_max_timelag': '0', 'col_17_variable': 'ignore', 'col_17_instrument': 'li7200rs_1', 'col_17_measure_type': '', 'col_17_unit_in': '', 'col_17_conversion': 'none', 'col_17_min_value': '0', 'col_17_max_value': '0', 'col_17_unit_out': '', 'col_17_a_value': '0', 'col_17_b_value': '0', 'col_17_nom_timelag': '0', 'col_17_min_timelag': '0.0', 'col_17_max_timelag': '0', 'col_18_variable': 'u', 'col_18_instrument': 'csat3_1', 'col_18_measure_type': '', 'col_18_unit_in': 'm_sec', 'col_18_conversion': 'none', 'col_18_min_value': '0', 'col_18_max_value': '0', 'col_18_unit_out': '', 'col_18_a_value': '0', 'col_18_b_value': '0', 'col_18_nom_timelag': '0', 'col_18_min_timelag': '0.0', 'col_18_max_timelag': '0', 'col_19_variable': 'v', 'col_19_instrument': 'csat3_1', 'col_19_measure_type': '', 'col_19_unit_in': 'm_sec', 'col_19_conversion': 'none', 'col_19_min_value': '0', 'col_19_max_value': '0', 'col_19_unit_out': '', 'col_19_a_value': '0', 'col_19_b_value': '0', 'col_19_nom_timelag': '0', 'col_19_min_timelag': '0.0', 'col_19_max_timelag': '0', 'col_20_variable': 'w', 'col_20_instrument': 'csat3_1', 'col_20_measure_type': '', 'col_20_unit_in': 'm_sec', 'col_20_conversion': 'none', 'col_20_min_value': '0', 'col_20_max_value': '0', 'col_20_unit_out': '', 'col_20_a_value': '0', 'col_20_b_value': '0', 'col_20_nom_timelag': '0', 'col_20_min_timelag': '0.0', 'col_20_max_timelag': '0', 'col_21_variable': 'sos', 'col_21_instrument': 'csat3_1', 'col_21_measure_type': '', 'col_21_unit_in': 'm_sec', 'col_21_conversion': 'none', 'col_21_min_value': '0', 'col_21_max_value': '0', 'col_21_unit_out': '', 'col_21_a_value': '0', 'col_21_b_value': '0', 'col_21_nom_timelag': '0', 'col_21_min_timelag': '0.0', 'col_21_max_timelag': '0', 'col_22_variable': 'ignore', 'col_22_instrument': 'li7200rs_1', 'col_22_measure_type': '', 'col_22_unit_in': '', 'col_22_conversion': 'none', 'col_22_min_value': '0', 'col_22_max_value': '0', 'col_22_unit_out': '', 'col_22_a_value': '0', 'col_22_b_value': '0', 'col_22_nom_timelag': '0', 'col_22_min_timelag': '0.0', 'col_22_max_timelag': '0', 'col_23_variable': 'ignore', 'col_23_instrument': 'li7200rs_1', 'col_23_measure_type': '', 'col_23_unit_in': '', 'col_23_conversion': 'none', 'col_23_min_value': '0', 'col_23_max_value': '0', 'col_23_unit_out': '', 'col_23_a_value': '0', 'col_23_b_value': '0', 'col_23_nom_timelag': '0', 'col_23_min_timelag': '0.0', 'col_23_max_timelag': '0', 'col_24_variable': 'vin_sf', 'col_24_instrument': 'li7200rs_1', 'col_24_measure_type': '', 'col_24_unit_in': 'V', 'col_24_conversion': 'none', 'col_24_min_value': '0', 'col_24_max_value': '0', 'col_24_unit_out': '', 'col_24_a_value': '0', 'col_24_b_value': '0', 'col_24_nom_timelag': '0', 'col_24_min_timelag': '0.0', 'col_24_max_timelag': '0', 'col_25_variable': 'co2', 'col_25_instrument': 'li7200rs_1', 'col_25_measure_type': 'mole_fraction', 'col_25_unit_in': 'ppm', 'col_25_conversion': 'none', 'col_25_min_value': '0', 'col_25_max_value': '0', 'col_25_unit_out': '', 'col_25_a_value': '0', 'col_25_b_value': '0', 'col_25_nom_timelag': '0.0242043', 'col_25_min_timelag': '0.0', 'col_25_max_timelag': '0.0484085', 'col_26_variable': 'co2', 'col_26_instrument': 'li7200rs_1', 'col_26_measure_type': 'mixing_ratio', 'col_26_unit_in': 'ppm', 'col_26_conversion': 'none', 'col_26_min_value': '0', 'col_26_max_value': '0', 'col_26_unit_out': '', 'col_26_a_value': '0', 'col_26_b_value': '0', 'col_26_nom_timelag': '0.0242043', 'col_26_min_timelag': '0.0', 'col_26_max_timelag': '0.0484085', 'col_27_variable': 'h2o', 'col_27_instrument': 'li7200rs_1', 'col_27_measure_type': 'mole_fraction', 'col_27_unit_in': 'ppt', 'col_27_conversion': 'none', 'col_27_min_value': '0', 'col_27_max_value': '0', 'col_27_unit_out': '', 'col_27_a_value': '0', 'col_27_b_value': '0', 'col_27_nom_timelag': '0.0242043', 'col_27_min_timelag': '0.0', 'col_27_max_timelag': '0.242043', 'col_28_variable': 'h2o', 'col_28_instrument': 'li7200rs_1', 'col_28_measure_type': 'mixing_ratio', 'col_28_unit_in': 'ppt', 'col_28_conversion': 'none', 'col_28_min_value': '0', 'col_28_max_value': '0', 'col_28_unit_out': '', 'col_28_a_value': '0', 'col_28_b_value': '0', 'col_28_nom_timelag': '0.0242043', 'col_28_min_timelag': '0.0', 'col_28_max_timelag': '0.242043', 'col_29_variable': 'dew_point', 'col_29_instrument': 'li7200rs_1', 'col_29_measure_type': '', 'col_29_unit_in': 'celsius', 'col_29_conversion': 'none', 'col_29_min_value': '0', 'col_29_max_value': '0', 'col_29_unit_out': '', 'col_29_a_value': '0', 'col_29_b_value': '0', 'col_29_nom_timelag': '0', 'col_29_min_timelag': '0.0', 'col_29_max_timelag': '0', 'col_30_variable': 'cell_t', 'col_30_instrument': 'li7200rs_1', 'col_30_measure_type': '', 'col_30_unit_in': 'celsius', 'col_30_conversion': 'none', 'col_30_min_value': '0', 'col_30_max_value': '0', 'col_30_unit_out': '', 'col_30_a_value': '0', 'col_30_b_value': '0', 'col_30_nom_timelag': '0', 'col_30_min_timelag': '0.0', 'col_30_max_timelag': '0', 'col_31_variable': 'int_t_1', 'col_31_instrument': 'li7200rs_1', 'col_31_measure_type': '', 'col_31_unit_in': 'celsius', 'col_31_conversion': 'none', 'col_31_min_value': '0', 'col_31_max_value': '0', 'col_31_unit_out': '', 'col_31_a_value': '0', 'col_31_b_value': '0', 'col_31_nom_timelag': '0', 'col_31_min_timelag': '0.0', 'col_31_max_timelag': '0', 'col_32_variable': 'int_t_2', 'col_32_instrument': 'li7200rs_1', 'col_32_measure_type': '', 'col_32_unit_in': 'celsius', 'col_32_conversion': 'none', 'col_32_min_value': '0', 'col_32_max_value': '0', 'col_32_unit_out': '', 'col_32_a_value': '0', 'col_32_b_value': '0', 'col_32_nom_timelag': '0', 'col_32_min_timelag': '0.0', 'col_32_max_timelag': '0', 'col_33_variable': 'avg_signal_strength_7200', 'col_33_instrument': 'li7200rs_1', 'col_33_measure_type': '', 'col_33_unit_in': '', 'col_33_conversion': 'none', 'col_33_min_value': '0', 'col_33_max_value': '0', 'col_33_unit_out': '', 'col_33_a_value': '0', 'col_33_b_value': '0', 'col_33_nom_timelag': '0', 'col_33_min_timelag': '0.0', 'col_33_max_timelag': '0', 'col_34_variable': 'co2_signal_strength_7200', 'col_34_instrument': 'li7200rs_1', 'col_34_measure_type': '', 'col_34_unit_in': '', 'col_34_conversion': 'none', 'col_34_min_value': '0', 'col_34_max_value': '0', 'col_34_unit_out': '', 'col_34_a_value': '0', 'col_34_b_value': '0', 'col_34_nom_timelag': '0', 'col_34_min_timelag': '0.0', 'col_34_max_timelag': '0', 'col_35_variable': 'h2o_signal_strength_7200', 'col_35_instrument': 'li7200rs_1', 'col_35_measure_type': '', 'col_35_unit_in': '', 'col_35_conversion': 'none', 'col_35_min_value': '0', 'col_35_max_value': '0', 'col_35_unit_out': '', 'col_35_a_value': '0', 'col_35_b_value': '0', 'col_35_nom_timelag': '0', 'col_35_min_timelag': '0.0', 'col_35_max_timelag': '0', 'col_36_variable': 'delta_signal_strength_7200', 'col_36_instrument': 'li7200rs_1', 'col_36_measure_type': '', 'col_36_unit_in': '', 'col_36_conversion': 'none', 'col_36_min_value': '0', 'col_36_max_value': '0', 'col_36_unit_out': '', 'col_36_a_value': '0', 'col_36_b_value': '0', 'col_36_nom_timelag': '0', 'col_36_min_timelag': '0.0', 'col_36_max_timelag': '0', 'col_37_variable': 'ignore', 'col_37_instrument': 'li7200rs_1', 'col_37_measure_type': '', 'col_37_unit_in': '', 'col_37_conversion': 'none', 'col_37_min_value': '0', 'col_37_max_value': '0', 'col_37_unit_out': '', 'col_37_a_value': '0', 'col_37_b_value': '0', 'col_37_nom_timelag': '0', 'col_37_min_timelag': '0.0', 'col_37_max_timelag': '0', 'col_38_variable': 'flowrate', 'col_38_instrument': 'li7200rs_1', 'col_38_measure_type': '', 'col_38_unit_in': 'lit_m', 'col_38_conversion': 'none', 'col_38_min_value': '0', 'col_38_max_value': '0', 'col_38_unit_out': '', 'col_38_a_value': '0', 'col_38_b_value': '0', 'col_38_nom_timelag': '0', 'col_38_min_timelag': '0.0', 'col_38_max_timelag': '0', 'col_39_variable': 'ignore', 'col_39_instrument': 'li7200rs_1', 'col_39_measure_type': '', 'col_39_unit_in': '', 'col_39_conversion': 'none', 'col_39_min_value': '0', 'col_39_max_value': '0', 'col_39_unit_out': '', 'col_39_a_value': '0', 'col_39_b_value': '0', 'col_39_nom_timelag': '0', 'col_39_min_timelag': '0.0', 'col_39_max_timelag': '0', 'col_40_variable': 'ignore', 'col_40_instrument': 'li7200rs_1', 'col_40_measure_type': '', 'col_40_unit_in': '', 'col_40_conversion': 'none', 'col_40_min_value': '0', 'col_40_max_value': '0', 'col_40_unit_out': '', 'col_40_a_value': '0', 'col_40_b_value': '0', 'col_40_nom_timelag': '0', 'col_40_min_timelag': '0.0', 'col_40_max_timelag': '0', 'col_41_variable': 'ignore', 'col_41_instrument': 'li7200rs_1', 'col_41_measure_type': '', 'col_41_unit_in': '', 'col_41_conversion': 'none', 'col_41_min_value': '0', 'col_41_max_value': '0', 'col_41_unit_out': '', 'col_41_a_value': '0', 'col_41_b_value': '0', 'col_41_nom_timelag': '0', 'col_41_min_timelag': '0.0', 'col_41_max_timelag': '0', 'col_42_variable': 'ignore', 'col_42_instrument': 'li7200rs_1', 'col_42_measure_type': '', 'col_42_unit_in': '', 'col_42_conversion': 'none', 'col_42_min_value': '0', 'col_42_max_value': '0', 'col_42_unit_out': '', 'col_42_a_value': '0', 'col_42_b_value': '0', 'col_42_nom_timelag': '0', 'col_42_min_timelag': '0.0', 'col_42_max_timelag': '0', 'col_43_variable': 'ignore', 'col_43_instrument': 'li7200rs_1', 'col_43_measure_type': '', 'col_43_unit_in': '', 'col_43_conversion': 'none', 'col_43_min_value': '0', 'col_43_max_value': '0', 'col_43_unit_out': '', 'col_43_a_value': '0', 'col_43_b_value': '0', 'col_43_nom_timelag': '0', 'col_43_min_timelag': '0.0', 'col_43_max_timelag': '0', 'col_44_variable': 'ignore', 'col_44_instrument': 'li7200rs_1', 'col_44_measure_type': '', 'col_44_unit_in': '', 'col_44_conversion': 'none', 'col_44_min_value': '0', 'col_44_max_value': '0', 'col_44_unit_out': '', 'col_44_a_value': '0', 'col_44_b_value': '0', 'col_44_nom_timelag': '0', 'col_44_min_timelag': '0.0', 'col_44_max_timelag': '0', 'col_45_variable': 'ignore', 'col_45_instrument': 'li7200rs_1', 'col_45_measure_type': '', 'col_45_unit_in': '', 'col_45_conversion': 'none', 'col_45_min_value': '0', 'col_45_max_value': '0', 'col_45_unit_out': '', 'col_45_a_value': '0', 'col_45_b_value': '0', 'col_45_nom_timelag': '0', 'col_45_min_timelag': '0.0', 'col_45_max_timelag': '0', 'col_46_variable': 'hit_power', 'col_46_instrument': 'li7200rs_1', 'col_46_measure_type': '', 'col_46_unit_in': '', 'col_46_conversion': 'none', 'col_46_min_value': '0', 'col_46_max_value': '0', 'col_46_unit_out': '', 'col_46_a_value': '0', 'col_46_b_value': '0', 'col_46_nom_timelag': '0', 'col_46_min_timelag': '0.0', 'col_46_max_timelag': '0', 'col_47_variable': 'hit_vin', 'col_47_instrument': 'li7200rs_1', 'col_47_measure_type': '', 'col_47_unit_in': '', 'col_47_conversion': 'none', 'col_47_min_value': '0', 'col_47_max_value': '0', 'col_47_unit_out': '', 'col_47_a_value': '0', 'col_47_b_value': '0', 'col_47_nom_timelag': '0', 'col_47_min_timelag': '0.0', 'col_47_max_timelag': '0', 'col_48_variable': 'ignore', 'col_48_instrument': 'li7700_2', 'col_48_measure_type': '', 'col_48_unit_in': '', 'col_48_conversion': 'none', 'col_48_min_value': '0', 'col_48_max_value': '0', 'col_48_unit_out': '', 'col_48_a_value': '0', 'col_48_b_value': '0', 'col_48_nom_timelag': '0', 'col_48_min_timelag': '0.0', 'col_48_max_timelag': '0', 'col_49_variable': 'ignore', 'col_49_instrument': 'li7700_2', 'col_49_measure_type': '', 'col_49_unit_in': '', 'col_49_conversion': 'none', 'col_49_min_value': '0', 'col_49_max_value': '0', 'col_49_unit_out': '', 'col_49_a_value': '0', 'col_49_b_value': '0', 'col_49_nom_timelag': '0', 'col_49_min_timelag': '0.0', 'col_49_max_timelag': '0', 'col_50_variable': 'ch4', 'col_50_instrument': 'li7700_2', 'col_50_measure_type': 'mole_fraction', 'col_50_unit_in': 'ppm', 'col_50_conversion': 'none', 'col_50_min_value': '0', 'col_50_max_value': '0', 'col_50_unit_out': '', 'col_50_a_value': '0', 'col_50_b_value': '0', 'col_50_nom_timelag': '0', 'col_50_min_timelag': '0.0', 'col_50_max_timelag': '0', 'col_51_variable': 'ch4', 'col_51_instrument': 'li7700_2', 'col_51_measure_type': 'molar_density', 'col_51_unit_in': 'mmol_m3', 'col_51_conversion': 'none', 'col_51_min_value': '0', 'col_51_max_value': '0', 'col_51_unit_out': '', 'col_51_a_value': '0', 'col_51_b_value': '0', 'col_51_nom_timelag': '0', 'col_51_min_timelag': '0.0', 'col_51_max_timelag': '0', 'col_52_variable': 'air_t', 'col_52_instrument': 'li7700_2', 'col_52_measure_type': '', 'col_52_unit_in': 'celsius', 'col_52_conversion': 'none', 'col_52_min_value': '0', 'col_52_max_value': '0', 'col_52_unit_out': '', 'col_52_a_value': '0', 'col_52_b_value': '0', 'col_52_nom_timelag': '0', 'col_52_min_timelag': '0.0', 'col_52_max_timelag': '0', 'col_53_variable': 'air_p', 'col_53_instrument': 'li7700_2', 'col_53_measure_type': '', 'col_53_unit_in': 'kpa', 'col_53_conversion': 'none', 'col_53_min_value': '0', 'col_53_max_value': '0', 'col_53_unit_out': '', 'col_53_a_value': '0', 'col_53_b_value': '0', 'col_53_nom_timelag': '0', 'col_53_min_timelag': '0.0', 'col_53_max_timelag': '0', 'col_54_variable': 'rssi_77', 'col_54_instrument': 'li7700_2', 'col_54_measure_type': '', 'col_54_unit_in': '', 'col_54_conversion': 'none', 'col_54_min_value': '0', 'col_54_max_value': '0', 'col_54_unit_out': '', 'col_54_a_value': '0', 'col_54_b_value': '0', 'col_54_nom_timelag': '0', 'col_54_min_timelag': '0.0', 'col_54_max_timelag': '0', 'col_55_variable': 'diag_77', 'col_55_instrument': 'li7700_2', 'col_55_measure_type': '', 'col_55_unit_in': '', 'col_55_conversion': 'none', 'col_55_min_value': '0', 'col_55_max_value': '0', 'col_55_unit_out': '', 'col_55_a_value': '0', 'col_55_b_value': '0', 'col_55_nom_timelag': '0', 'col_55_min_timelag': '0.0', 'col_55_max_timelag': '0', 'col_56_variable': 'ignore', 'col_56_instrument': 'li7700_2', 'col_56_measure_type': '', 'col_56_unit_in': '', 'col_56_conversion': 'none', 'col_56_min_value': '0', 'col_56_max_value': '0', 'col_56_unit_out': '', 'col_56_a_value': '0', 'col_56_b_value': '0', 'col_56_nom_timelag': '0', 'col_56_min_timelag': '0.0', 'col_56_max_timelag': '0', 'col_57_variable': 'ignore', 'col_57_instrument': 'li7200rs_1', 'col_57_measure_type': '', 'col_57_unit_in': '', 'col_57_conversion': 'none', 'col_57_min_value': '0', 'col_57_max_value': '0', 'col_57_unit_out': '', 'col_57_a_value': '0', 'col_57_b_value': '0', 'col_57_nom_timelag': '0', 'col_57_min_timelag': '0.0', 'col_57_max_timelag': '0'}}}}\n",
      "_metadata_Smartflux8.0.0_10Hz_2017-07-26T0130.yml\n",
      "{'Type': 'GHG', 'StationName': '', 'Logger': 'LI-7200RS', 'SerialNo': 'AIU-1697', 'Program': 'Smartflux8.0.0', 'Table': None, 'Timestamp': '2017-07-26T0130', 'Frequency': '10Hz', 'Timezone': 'US/Mountain', 'fileContents': {'data': {'Model': 'LI-7200RS Enclosed CO2/H2O Analyzer', 'SN': '72H-0816', 'Instrument': 'AIU-1697', 'File Type': '2', 'Software Version': '8.0.0', 'Timestamp': '01:30:00', 'Timezone': 'US/Mountain', 'Header': ['DATAH', 'Seconds', 'Nanoseconds', 'Sequence Number', 'Diagnostic Value', 'Diagnostic Value 2', 'Date', 'Time', 'CO2 Absorptance', 'H2O Absorptance', 'CO2 (mmol/m^3)', 'CO2 (mg/m^3)', 'H2O (mmol/m^3)', 'H2O (g/m^3)', 'Block Temperature (C)', 'Total Pressure (kPa)', 'Box Pressure (kPa)', 'Head Pressure (kPa)', 'Aux 1 - U (m/s)', 'Aux 2 - V (m/s)', 'Aux 3 - W (m/s)', 'Aux 4 - SOS (m/s)', 'Cooler Voltage (V)', 'Chopper Cooler Voltage (V)', 'Vin SmartFlux (V)', 'CO2 (umol/mol)', 'CO2 dry(umol/mol)', 'H2O (mmol/mol)', 'H2O dry(mmol/mol)', 'Dew Point (C)', 'Cell Temperature (C)', 'Temperature In (C)', 'Temperature Out (C)', 'Average Signal Strength', 'CO2 Signal Strength', 'H2O Signal Strength', 'Delta Signal Strength', 'Flow Rate (slpm)', 'Flow Rate (lpm)', 'Flow Pressure (kPa)', 'Flow Power (V)', 'Flow Drive (%)', 'H2O Sample', 'H2O Reference', 'CO2 Sample', 'CO2 Reference', 'HIT Power (W)', 'Vin HIT (V)', 'CH4 Seconds', 'CH4 Nanoseconds', 'CH4 (umol/mol)', 'CH4 (mmol/m^3)', 'CH4 Temperature', 'CH4 Pressure', 'CH4 Signal Strength', 'CH4 Diagnostic Value', 'CH4 Drop Rate (%)', 'CHK']}, 'status': {'Model': 'LI-7700', 'SN': 'TG1-0452', 'Instrument': 'TG1-0452', 'File Type': '2', 'Software Version': '1.0.23', 'Timestamp': '01:30:00', 'Timezone': 'US/Mountain', 'Header': ['DATASTATH', 'MSEC', 'SECONDS', 'NANOSECONDS', 'DIAG', 'RSSI', 'REFRSSI', 'LCTSETPT', 'LCTACTUAL', 'BCTSETPT', 'BCTACTUAL', 'CHASSISTEMP', 'OPTICSTEMP', 'OPTICSRH', 'AUXREFTEMP', 'MOTORSETPT', 'MOTORACTUAL', 'USB', 'USBCAPACITY', 'USBFREESPACE', 'REF', 'GND', 'OPTICSTDELTA', 'BOTTOMHEATERW', 'TOPHEATERW', 'CHK']}, 'metadata': {'Site': {'site_name': 'Mackenzie2017', 'altitude': '-0.5', 'latitude': '69.37229156', 'longitude': '-134.8811035', 'canopy_height': '10', 'displacement_height': '0', 'roughness_length': '0'}, 'Station': {'station_name': '', 'logger_id': 'AIU-1697', 'logger_sw_version': '8.0.0'}, 'Timing': {'acquisition_frequency': '10.0', 'file_duration': '30'}, 'Instruments': {'instr_1_manufacturer': 'csi', 'instr_1_model': 'csat3_1', 'instr_1_sn': '', 'instr_1_sw_version': '4.0', 'instr_1_id': '', 'instr_1_height': '.21', 'instr_1_wformat': 'uvw', 'instr_1_wref': 'spar', 'instr_1_north_offset': '35', 'instr_1_head_corr': '1', 'instr_1_northward_separation': '0.0', 'instr_1_eastward_separation': '0.0', 'instr_1_vertical_separation': '0.0', 'instr_2_manufacturer': 'licor', 'instr_2_model': 'li7200rs_1', 'instr_2_sn': '72H-0816', 'instr_2_id': 'AIU-1697', 'instr_2_sw_version': '8.0.0', 'instr_2_tube_length': '15', 'instr_2_tube_diameter': '5', 'instr_2_tube_flowrate': '14.39', 'instr_2_northward_separation': '0', 'instr_2_eastward_separation': '5', 'instr_2_vertical_separation': '0.0', 'instr_3_manufacturer': 'licor', 'instr_3_model': 'li7700_2', 'instr_3_sn': 'TG1-0452', 'instr_3_id': 'TG1-0452', 'instr_3_sw_version': '1.0.23', 'instr_3_tube_length': '0.0', 'instr_3_tube_diameter': '0.0', 'instr_3_tube_flowrate': '0.0', 'instr_3_northward_separation': '0', 'instr_3_eastward_separation': '15', 'instr_3_vertical_separation': '0'}, 'FileDescription': {'separator': 'tab', 'flag_discards_if_above': '0', 'header_rows': '8', 'data_label': 'DATA', 'col_1_variable': 'ignore', 'col_1_instrument': 'li7200rs_1', 'col_1_measure_type': '', 'col_1_unit_in': '', 'col_1_conversion': 'none', 'col_1_min_value': '0', 'col_1_max_value': '0', 'col_1_unit_out': '', 'col_1_a_value': '0', 'col_1_b_value': '0', 'col_1_nom_timelag': '0', 'col_1_min_timelag': '0.0', 'col_1_max_timelag': '0', 'col_2_variable': 'ignore', 'col_2_instrument': 'li7200rs_1', 'col_2_measure_type': '', 'col_2_unit_in': '', 'col_2_conversion': 'none', 'col_2_min_value': '0', 'col_2_max_value': '0', 'col_2_unit_out': '', 'col_2_a_value': '0', 'col_2_b_value': '0', 'col_2_nom_timelag': '0', 'col_2_min_timelag': '0.0', 'col_2_max_timelag': '0', 'col_3_variable': 'ignore', 'col_3_instrument': 'li7200rs_1', 'col_3_measure_type': '', 'col_3_unit_in': '', 'col_3_conversion': 'none', 'col_3_min_value': '0', 'col_3_max_value': '0', 'col_3_unit_out': '', 'col_3_a_value': '0', 'col_3_b_value': '0', 'col_3_nom_timelag': '0', 'col_3_min_timelag': '0.0', 'col_3_max_timelag': '0', 'col_4_variable': 'diag_72', 'col_4_instrument': 'li7200rs_1', 'col_4_measure_type': '', 'col_4_unit_in': '', 'col_4_conversion': 'none', 'col_4_min_value': '0', 'col_4_max_value': '0', 'col_4_unit_out': '', 'col_4_a_value': '0', 'col_4_b_value': '0', 'col_4_nom_timelag': '0', 'col_4_min_timelag': '0.0', 'col_4_max_timelag': '0', 'col_5_variable': 'ignore', 'col_5_instrument': 'li7200rs_1', 'col_5_measure_type': '', 'col_5_unit_in': '', 'col_5_conversion': 'none', 'col_5_min_value': '0', 'col_5_max_value': '0', 'col_5_unit_out': '', 'col_5_a_value': '0', 'col_5_b_value': '0', 'col_5_nom_timelag': '0', 'col_5_min_timelag': '0.0', 'col_5_max_timelag': '0', 'col_6_variable': 'not_numeric', 'col_6_instrument': 'li7200rs_1', 'col_6_measure_type': '', 'col_6_unit_in': '', 'col_6_conversion': 'none', 'col_6_min_value': '0', 'col_6_max_value': '0', 'col_6_unit_out': '', 'col_6_a_value': '0', 'col_6_b_value': '0', 'col_6_nom_timelag': '0', 'col_6_min_timelag': '0.0', 'col_6_max_timelag': '0', 'col_7_variable': 'not_numeric', 'col_7_instrument': 'li7200rs_1', 'col_7_measure_type': '', 'col_7_unit_in': '', 'col_7_conversion': 'none', 'col_7_min_value': '0', 'col_7_max_value': '0', 'col_7_unit_out': '', 'col_7_a_value': '0', 'col_7_b_value': '0', 'col_7_nom_timelag': '0', 'col_7_min_timelag': '0.0', 'col_7_max_timelag': '0', 'col_8_variable': 'ignore', 'col_8_instrument': 'li7200rs_1', 'col_8_measure_type': '', 'col_8_unit_in': '', 'col_8_conversion': 'none', 'col_8_min_value': '0', 'col_8_max_value': '0', 'col_8_unit_out': '', 'col_8_a_value': '0', 'col_8_b_value': '0', 'col_8_nom_timelag': '0', 'col_8_min_timelag': '0.0', 'col_8_max_timelag': '0', 'col_9_variable': 'ignore', 'col_9_instrument': 'li7200rs_1', 'col_9_measure_type': '', 'col_9_unit_in': '', 'col_9_conversion': 'none', 'col_9_min_value': '0', 'col_9_max_value': '0', 'col_9_unit_out': '', 'col_9_a_value': '0', 'col_9_b_value': '0', 'col_9_nom_timelag': '0', 'col_9_min_timelag': '0.0', 'col_9_max_timelag': '0', 'col_10_variable': 'co2', 'col_10_instrument': 'li7200rs_1', 'col_10_measure_type': 'molar_density', 'col_10_unit_in': 'mmol_m3', 'col_10_conversion': 'none', 'col_10_min_value': '0', 'col_10_max_value': '0', 'col_10_unit_out': '', 'col_10_a_value': '0', 'col_10_b_value': '0', 'col_10_nom_timelag': '0.0122736', 'col_10_min_timelag': '0.0', 'col_10_max_timelag': '0.0245471', 'col_11_variable': 'ignore', 'col_11_instrument': 'li7200rs_1', 'col_11_measure_type': '', 'col_11_unit_in': '', 'col_11_conversion': 'none', 'col_11_min_value': '0', 'col_11_max_value': '0', 'col_11_unit_out': '', 'col_11_a_value': '0', 'col_11_b_value': '0', 'col_11_nom_timelag': '0', 'col_11_min_timelag': '0.0', 'col_11_max_timelag': '0', 'col_12_variable': 'h2o', 'col_12_instrument': 'li7200rs_1', 'col_12_measure_type': 'molar_density', 'col_12_unit_in': 'mmol_m3', 'col_12_conversion': 'none', 'col_12_min_value': '0', 'col_12_max_value': '0', 'col_12_unit_out': '', 'col_12_a_value': '0', 'col_12_b_value': '0', 'col_12_nom_timelag': '0.0122736', 'col_12_min_timelag': '0.0', 'col_12_max_timelag': '0.122736', 'col_13_variable': 'ignore', 'col_13_instrument': 'li7200rs_1', 'col_13_measure_type': '', 'col_13_unit_in': '', 'col_13_conversion': 'none', 'col_13_min_value': '0', 'col_13_max_value': '0', 'col_13_unit_out': '', 'col_13_a_value': '0', 'col_13_b_value': '0', 'col_13_nom_timelag': '0', 'col_13_min_timelag': '0.0', 'col_13_max_timelag': '0', 'col_14_variable': 'ignore', 'col_14_instrument': 'li7200rs_1', 'col_14_measure_type': '', 'col_14_unit_in': 'celsius', 'col_14_conversion': 'none', 'col_14_min_value': '0', 'col_14_max_value': '0', 'col_14_unit_out': '', 'col_14_a_value': '0', 'col_14_b_value': '0', 'col_14_nom_timelag': '0', 'col_14_min_timelag': '0.0', 'col_14_max_timelag': '0', 'col_15_variable': 'int_p', 'col_15_instrument': 'li7200rs_1', 'col_15_measure_type': '', 'col_15_unit_in': 'kpa', 'col_15_conversion': 'none', 'col_15_min_value': '0', 'col_15_max_value': '0', 'col_15_unit_out': '', 'col_15_a_value': '0', 'col_15_b_value': '0', 'col_15_nom_timelag': '0', 'col_15_min_timelag': '0.0', 'col_15_max_timelag': '0', 'col_16_variable': 'air_p', 'col_16_instrument': 'li7200rs_1', 'col_16_measure_type': '', 'col_16_unit_in': 'kpa', 'col_16_conversion': 'none', 'col_16_min_value': '0', 'col_16_max_value': '0', 'col_16_unit_out': '', 'col_16_a_value': '0', 'col_16_b_value': '0', 'col_16_nom_timelag': '0', 'col_16_min_timelag': '0.0', 'col_16_max_timelag': '0', 'col_17_variable': 'ignore', 'col_17_instrument': 'li7200rs_1', 'col_17_measure_type': '', 'col_17_unit_in': '', 'col_17_conversion': 'none', 'col_17_min_value': '0', 'col_17_max_value': '0', 'col_17_unit_out': '', 'col_17_a_value': '0', 'col_17_b_value': '0', 'col_17_nom_timelag': '0', 'col_17_min_timelag': '0.0', 'col_17_max_timelag': '0', 'col_18_variable': 'u', 'col_18_instrument': 'csat3_1', 'col_18_measure_type': '', 'col_18_unit_in': 'm_sec', 'col_18_conversion': 'none', 'col_18_min_value': '0', 'col_18_max_value': '0', 'col_18_unit_out': '', 'col_18_a_value': '0', 'col_18_b_value': '0', 'col_18_nom_timelag': '0', 'col_18_min_timelag': '0.0', 'col_18_max_timelag': '0', 'col_19_variable': 'v', 'col_19_instrument': 'csat3_1', 'col_19_measure_type': '', 'col_19_unit_in': 'm_sec', 'col_19_conversion': 'none', 'col_19_min_value': '0', 'col_19_max_value': '0', 'col_19_unit_out': '', 'col_19_a_value': '0', 'col_19_b_value': '0', 'col_19_nom_timelag': '0', 'col_19_min_timelag': '0.0', 'col_19_max_timelag': '0', 'col_20_variable': 'w', 'col_20_instrument': 'csat3_1', 'col_20_measure_type': '', 'col_20_unit_in': 'm_sec', 'col_20_conversion': 'none', 'col_20_min_value': '0', 'col_20_max_value': '0', 'col_20_unit_out': '', 'col_20_a_value': '0', 'col_20_b_value': '0', 'col_20_nom_timelag': '0', 'col_20_min_timelag': '0.0', 'col_20_max_timelag': '0', 'col_21_variable': 'sos', 'col_21_instrument': 'csat3_1', 'col_21_measure_type': '', 'col_21_unit_in': 'm_sec', 'col_21_conversion': 'none', 'col_21_min_value': '0', 'col_21_max_value': '0', 'col_21_unit_out': '', 'col_21_a_value': '0', 'col_21_b_value': '0', 'col_21_nom_timelag': '0', 'col_21_min_timelag': '0.0', 'col_21_max_timelag': '0', 'col_22_variable': 'ignore', 'col_22_instrument': 'li7200rs_1', 'col_22_measure_type': '', 'col_22_unit_in': '', 'col_22_conversion': 'none', 'col_22_min_value': '0', 'col_22_max_value': '0', 'col_22_unit_out': '', 'col_22_a_value': '0', 'col_22_b_value': '0', 'col_22_nom_timelag': '0', 'col_22_min_timelag': '0.0', 'col_22_max_timelag': '0', 'col_23_variable': 'ignore', 'col_23_instrument': 'li7200rs_1', 'col_23_measure_type': '', 'col_23_unit_in': '', 'col_23_conversion': 'none', 'col_23_min_value': '0', 'col_23_max_value': '0', 'col_23_unit_out': '', 'col_23_a_value': '0', 'col_23_b_value': '0', 'col_23_nom_timelag': '0', 'col_23_min_timelag': '0.0', 'col_23_max_timelag': '0', 'col_24_variable': 'vin_sf', 'col_24_instrument': 'li7200rs_1', 'col_24_measure_type': '', 'col_24_unit_in': 'V', 'col_24_conversion': 'none', 'col_24_min_value': '0', 'col_24_max_value': '0', 'col_24_unit_out': '', 'col_24_a_value': '0', 'col_24_b_value': '0', 'col_24_nom_timelag': '0', 'col_24_min_timelag': '0.0', 'col_24_max_timelag': '0', 'col_25_variable': 'co2', 'col_25_instrument': 'li7200rs_1', 'col_25_measure_type': 'mole_fraction', 'col_25_unit_in': 'ppm', 'col_25_conversion': 'none', 'col_25_min_value': '0', 'col_25_max_value': '0', 'col_25_unit_out': '', 'col_25_a_value': '0', 'col_25_b_value': '0', 'col_25_nom_timelag': '0.0122736', 'col_25_min_timelag': '0.0', 'col_25_max_timelag': '0.0245471', 'col_26_variable': 'co2', 'col_26_instrument': 'li7200rs_1', 'col_26_measure_type': 'mixing_ratio', 'col_26_unit_in': 'ppm', 'col_26_conversion': 'none', 'col_26_min_value': '0', 'col_26_max_value': '0', 'col_26_unit_out': '', 'col_26_a_value': '0', 'col_26_b_value': '0', 'col_26_nom_timelag': '0.0122736', 'col_26_min_timelag': '0.0', 'col_26_max_timelag': '0.0245471', 'col_27_variable': 'h2o', 'col_27_instrument': 'li7200rs_1', 'col_27_measure_type': 'mole_fraction', 'col_27_unit_in': 'ppt', 'col_27_conversion': 'none', 'col_27_min_value': '0', 'col_27_max_value': '0', 'col_27_unit_out': '', 'col_27_a_value': '0', 'col_27_b_value': '0', 'col_27_nom_timelag': '0.0122736', 'col_27_min_timelag': '0.0', 'col_27_max_timelag': '0.122736', 'col_28_variable': 'h2o', 'col_28_instrument': 'li7200rs_1', 'col_28_measure_type': 'mixing_ratio', 'col_28_unit_in': 'ppt', 'col_28_conversion': 'none', 'col_28_min_value': '0', 'col_28_max_value': '0', 'col_28_unit_out': '', 'col_28_a_value': '0', 'col_28_b_value': '0', 'col_28_nom_timelag': '0.0122736', 'col_28_min_timelag': '0.0', 'col_28_max_timelag': '0.122736', 'col_29_variable': 'dew_point', 'col_29_instrument': 'li7200rs_1', 'col_29_measure_type': '', 'col_29_unit_in': 'celsius', 'col_29_conversion': 'none', 'col_29_min_value': '0', 'col_29_max_value': '0', 'col_29_unit_out': '', 'col_29_a_value': '0', 'col_29_b_value': '0', 'col_29_nom_timelag': '0', 'col_29_min_timelag': '0.0', 'col_29_max_timelag': '0', 'col_30_variable': 'cell_t', 'col_30_instrument': 'li7200rs_1', 'col_30_measure_type': '', 'col_30_unit_in': 'celsius', 'col_30_conversion': 'none', 'col_30_min_value': '0', 'col_30_max_value': '0', 'col_30_unit_out': '', 'col_30_a_value': '0', 'col_30_b_value': '0', 'col_30_nom_timelag': '0', 'col_30_min_timelag': '0.0', 'col_30_max_timelag': '0', 'col_31_variable': 'int_t_1', 'col_31_instrument': 'li7200rs_1', 'col_31_measure_type': '', 'col_31_unit_in': 'celsius', 'col_31_conversion': 'none', 'col_31_min_value': '0', 'col_31_max_value': '0', 'col_31_unit_out': '', 'col_31_a_value': '0', 'col_31_b_value': '0', 'col_31_nom_timelag': '0', 'col_31_min_timelag': '0.0', 'col_31_max_timelag': '0', 'col_32_variable': 'int_t_2', 'col_32_instrument': 'li7200rs_1', 'col_32_measure_type': '', 'col_32_unit_in': 'celsius', 'col_32_conversion': 'none', 'col_32_min_value': '0', 'col_32_max_value': '0', 'col_32_unit_out': '', 'col_32_a_value': '0', 'col_32_b_value': '0', 'col_32_nom_timelag': '0', 'col_32_min_timelag': '0.0', 'col_32_max_timelag': '0', 'col_33_variable': 'avg_signal_strength_7200', 'col_33_instrument': 'li7200rs_1', 'col_33_measure_type': '', 'col_33_unit_in': '', 'col_33_conversion': 'none', 'col_33_min_value': '0', 'col_33_max_value': '0', 'col_33_unit_out': '', 'col_33_a_value': '0', 'col_33_b_value': '0', 'col_33_nom_timelag': '0', 'col_33_min_timelag': '0.0', 'col_33_max_timelag': '0', 'col_34_variable': 'co2_signal_strength_7200', 'col_34_instrument': 'li7200rs_1', 'col_34_measure_type': '', 'col_34_unit_in': '', 'col_34_conversion': 'none', 'col_34_min_value': '0', 'col_34_max_value': '0', 'col_34_unit_out': '', 'col_34_a_value': '0', 'col_34_b_value': '0', 'col_34_nom_timelag': '0', 'col_34_min_timelag': '0.0', 'col_34_max_timelag': '0', 'col_35_variable': 'h2o_signal_strength_7200', 'col_35_instrument': 'li7200rs_1', 'col_35_measure_type': '', 'col_35_unit_in': '', 'col_35_conversion': 'none', 'col_35_min_value': '0', 'col_35_max_value': '0', 'col_35_unit_out': '', 'col_35_a_value': '0', 'col_35_b_value': '0', 'col_35_nom_timelag': '0', 'col_35_min_timelag': '0.0', 'col_35_max_timelag': '0', 'col_36_variable': 'delta_signal_strength_7200', 'col_36_instrument': 'li7200rs_1', 'col_36_measure_type': '', 'col_36_unit_in': '', 'col_36_conversion': 'none', 'col_36_min_value': '0', 'col_36_max_value': '0', 'col_36_unit_out': '', 'col_36_a_value': '0', 'col_36_b_value': '0', 'col_36_nom_timelag': '0', 'col_36_min_timelag': '0.0', 'col_36_max_timelag': '0', 'col_37_variable': 'ignore', 'col_37_instrument': 'li7200rs_1', 'col_37_measure_type': '', 'col_37_unit_in': '', 'col_37_conversion': 'none', 'col_37_min_value': '0', 'col_37_max_value': '0', 'col_37_unit_out': '', 'col_37_a_value': '0', 'col_37_b_value': '0', 'col_37_nom_timelag': '0', 'col_37_min_timelag': '0.0', 'col_37_max_timelag': '0', 'col_38_variable': 'flowrate', 'col_38_instrument': 'li7200rs_1', 'col_38_measure_type': '', 'col_38_unit_in': 'lit_m', 'col_38_conversion': 'none', 'col_38_min_value': '0', 'col_38_max_value': '0', 'col_38_unit_out': '', 'col_38_a_value': '0', 'col_38_b_value': '0', 'col_38_nom_timelag': '0', 'col_38_min_timelag': '0.0', 'col_38_max_timelag': '0', 'col_39_variable': 'ignore', 'col_39_instrument': 'li7200rs_1', 'col_39_measure_type': '', 'col_39_unit_in': '', 'col_39_conversion': 'none', 'col_39_min_value': '0', 'col_39_max_value': '0', 'col_39_unit_out': '', 'col_39_a_value': '0', 'col_39_b_value': '0', 'col_39_nom_timelag': '0', 'col_39_min_timelag': '0.0', 'col_39_max_timelag': '0', 'col_40_variable': 'ignore', 'col_40_instrument': 'li7200rs_1', 'col_40_measure_type': '', 'col_40_unit_in': '', 'col_40_conversion': 'none', 'col_40_min_value': '0', 'col_40_max_value': '0', 'col_40_unit_out': '', 'col_40_a_value': '0', 'col_40_b_value': '0', 'col_40_nom_timelag': '0', 'col_40_min_timelag': '0.0', 'col_40_max_timelag': '0', 'col_41_variable': 'ignore', 'col_41_instrument': 'li7200rs_1', 'col_41_measure_type': '', 'col_41_unit_in': '', 'col_41_conversion': 'none', 'col_41_min_value': '0', 'col_41_max_value': '0', 'col_41_unit_out': '', 'col_41_a_value': '0', 'col_41_b_value': '0', 'col_41_nom_timelag': '0', 'col_41_min_timelag': '0.0', 'col_41_max_timelag': '0', 'col_42_variable': 'ignore', 'col_42_instrument': 'li7200rs_1', 'col_42_measure_type': '', 'col_42_unit_in': '', 'col_42_conversion': 'none', 'col_42_min_value': '0', 'col_42_max_value': '0', 'col_42_unit_out': '', 'col_42_a_value': '0', 'col_42_b_value': '0', 'col_42_nom_timelag': '0', 'col_42_min_timelag': '0.0', 'col_42_max_timelag': '0', 'col_43_variable': 'ignore', 'col_43_instrument': 'li7200rs_1', 'col_43_measure_type': '', 'col_43_unit_in': '', 'col_43_conversion': 'none', 'col_43_min_value': '0', 'col_43_max_value': '0', 'col_43_unit_out': '', 'col_43_a_value': '0', 'col_43_b_value': '0', 'col_43_nom_timelag': '0', 'col_43_min_timelag': '0.0', 'col_43_max_timelag': '0', 'col_44_variable': 'ignore', 'col_44_instrument': 'li7200rs_1', 'col_44_measure_type': '', 'col_44_unit_in': '', 'col_44_conversion': 'none', 'col_44_min_value': '0', 'col_44_max_value': '0', 'col_44_unit_out': '', 'col_44_a_value': '0', 'col_44_b_value': '0', 'col_44_nom_timelag': '0', 'col_44_min_timelag': '0.0', 'col_44_max_timelag': '0', 'col_45_variable': 'ignore', 'col_45_instrument': 'li7200rs_1', 'col_45_measure_type': '', 'col_45_unit_in': '', 'col_45_conversion': 'none', 'col_45_min_value': '0', 'col_45_max_value': '0', 'col_45_unit_out': '', 'col_45_a_value': '0', 'col_45_b_value': '0', 'col_45_nom_timelag': '0', 'col_45_min_timelag': '0.0', 'col_45_max_timelag': '0', 'col_46_variable': 'hit_power', 'col_46_instrument': 'li7200rs_1', 'col_46_measure_type': '', 'col_46_unit_in': '', 'col_46_conversion': 'none', 'col_46_min_value': '0', 'col_46_max_value': '0', 'col_46_unit_out': '', 'col_46_a_value': '0', 'col_46_b_value': '0', 'col_46_nom_timelag': '0', 'col_46_min_timelag': '0.0', 'col_46_max_timelag': '0', 'col_47_variable': 'hit_vin', 'col_47_instrument': 'li7200rs_1', 'col_47_measure_type': '', 'col_47_unit_in': '', 'col_47_conversion': 'none', 'col_47_min_value': '0', 'col_47_max_value': '0', 'col_47_unit_out': '', 'col_47_a_value': '0', 'col_47_b_value': '0', 'col_47_nom_timelag': '0', 'col_47_min_timelag': '0.0', 'col_47_max_timelag': '0', 'col_48_variable': 'ignore', 'col_48_instrument': 'li7700_2', 'col_48_measure_type': '', 'col_48_unit_in': '', 'col_48_conversion': 'none', 'col_48_min_value': '0', 'col_48_max_value': '0', 'col_48_unit_out': '', 'col_48_a_value': '0', 'col_48_b_value': '0', 'col_48_nom_timelag': '0', 'col_48_min_timelag': '0.0', 'col_48_max_timelag': '0', 'col_49_variable': 'ignore', 'col_49_instrument': 'li7700_2', 'col_49_measure_type': '', 'col_49_unit_in': '', 'col_49_conversion': 'none', 'col_49_min_value': '0', 'col_49_max_value': '0', 'col_49_unit_out': '', 'col_49_a_value': '0', 'col_49_b_value': '0', 'col_49_nom_timelag': '0', 'col_49_min_timelag': '0.0', 'col_49_max_timelag': '0', 'col_50_variable': 'ch4', 'col_50_instrument': 'li7700_2', 'col_50_measure_type': 'mole_fraction', 'col_50_unit_in': 'ppm', 'col_50_conversion': 'none', 'col_50_min_value': '0', 'col_50_max_value': '0', 'col_50_unit_out': '', 'col_50_a_value': '0', 'col_50_b_value': '0', 'col_50_nom_timelag': '0', 'col_50_min_timelag': '0.0', 'col_50_max_timelag': '0', 'col_51_variable': 'ch4', 'col_51_instrument': 'li7700_2', 'col_51_measure_type': 'molar_density', 'col_51_unit_in': 'mmol_m3', 'col_51_conversion': 'none', 'col_51_min_value': '0', 'col_51_max_value': '0', 'col_51_unit_out': '', 'col_51_a_value': '0', 'col_51_b_value': '0', 'col_51_nom_timelag': '0', 'col_51_min_timelag': '0.0', 'col_51_max_timelag': '0', 'col_52_variable': 'air_t', 'col_52_instrument': 'li7700_2', 'col_52_measure_type': '', 'col_52_unit_in': 'celsius', 'col_52_conversion': 'none', 'col_52_min_value': '0', 'col_52_max_value': '0', 'col_52_unit_out': '', 'col_52_a_value': '0', 'col_52_b_value': '0', 'col_52_nom_timelag': '0', 'col_52_min_timelag': '0.0', 'col_52_max_timelag': '0', 'col_53_variable': 'air_p', 'col_53_instrument': 'li7700_2', 'col_53_measure_type': '', 'col_53_unit_in': 'kpa', 'col_53_conversion': 'none', 'col_53_min_value': '0', 'col_53_max_value': '0', 'col_53_unit_out': '', 'col_53_a_value': '0', 'col_53_b_value': '0', 'col_53_nom_timelag': '0', 'col_53_min_timelag': '0.0', 'col_53_max_timelag': '0', 'col_54_variable': 'rssi_77', 'col_54_instrument': 'li7700_2', 'col_54_measure_type': '', 'col_54_unit_in': '', 'col_54_conversion': 'none', 'col_54_min_value': '0', 'col_54_max_value': '0', 'col_54_unit_out': '', 'col_54_a_value': '0', 'col_54_b_value': '0', 'col_54_nom_timelag': '0', 'col_54_min_timelag': '0.0', 'col_54_max_timelag': '0', 'col_55_variable': 'diag_77', 'col_55_instrument': 'li7700_2', 'col_55_measure_type': '', 'col_55_unit_in': '', 'col_55_conversion': 'none', 'col_55_min_value': '0', 'col_55_max_value': '0', 'col_55_unit_out': '', 'col_55_a_value': '0', 'col_55_b_value': '0', 'col_55_nom_timelag': '0', 'col_55_min_timelag': '0.0', 'col_55_max_timelag': '0', 'col_56_variable': 'ignore', 'col_56_instrument': 'li7700_2', 'col_56_measure_type': '', 'col_56_unit_in': '', 'col_56_conversion': 'none', 'col_56_min_value': '0', 'col_56_max_value': '0', 'col_56_unit_out': '', 'col_56_a_value': '0', 'col_56_b_value': '0', 'col_56_nom_timelag': '0', 'col_56_min_timelag': '0.0', 'col_56_max_timelag': '0', 'col_57_variable': 'ignore', 'col_57_instrument': 'li7200rs_1', 'col_57_measure_type': '', 'col_57_unit_in': '', 'col_57_conversion': 'none', 'col_57_min_value': '0', 'col_57_max_value': '0', 'col_57_unit_out': '', 'col_57_a_value': '0', 'col_57_b_value': '0', 'col_57_nom_timelag': '0', 'col_57_min_timelag': '0.0', 'col_57_max_timelag': '0'}}}}\n",
      "_metadata_Smartflux8.0.0_20Hz_2017-08-23T1500.yml\n",
      "{'Type': 'GHG', 'StationName': '', 'Logger': 'LI-7200RS', 'SerialNo': 'AIU-1697', 'Program': 'Smartflux8.0.0', 'Table': None, 'Timestamp': '2017-08-23T1500', 'Frequency': '20Hz', 'Timezone': 'US/Mountain', 'fileContents': {'data': {'Model': 'LI-7200RS Enclosed CO2/H2O Analyzer', 'SN': '72H-0816', 'Instrument': 'AIU-1697', 'File Type': '2', 'Software Version': '8.0.0', 'Timestamp': '15:00:00', 'Timezone': 'US/Mountain', 'Header': ['DATAH', 'Seconds', 'Nanoseconds', 'Sequence Number', 'Diagnostic Value', 'Diagnostic Value 2', 'Date', 'Time', 'CO2 Absorptance', 'H2O Absorptance', 'CO2 (mmol/m^3)', 'CO2 (mg/m^3)', 'H2O (mmol/m^3)', 'H2O (g/m^3)', 'Block Temperature (C)', 'Total Pressure (kPa)', 'Box Pressure (kPa)', 'Head Pressure (kPa)', 'Aux 1 - U (m/s)', 'Aux 2 - V (m/s)', 'Aux 3 - W (m/s)', 'Aux 4 - SOS (m/s)', 'Cooler Voltage (V)', 'Chopper Cooler Voltage (V)', 'Vin SmartFlux (V)', 'CO2 (umol/mol)', 'CO2 dry(umol/mol)', 'H2O (mmol/mol)', 'H2O dry(mmol/mol)', 'Dew Point (C)', 'Cell Temperature (C)', 'Temperature In (C)', 'Temperature Out (C)', 'Average Signal Strength', 'CO2 Signal Strength', 'H2O Signal Strength', 'Delta Signal Strength', 'Flow Rate (slpm)', 'Flow Rate (lpm)', 'Flow Pressure (kPa)', 'Flow Power (V)', 'Flow Drive (%)', 'H2O Sample', 'H2O Reference', 'CO2 Sample', 'CO2 Reference', 'HIT Power (W)', 'Vin HIT (V)', 'CH4 Seconds', 'CH4 Nanoseconds', 'CH4 (umol/mol)', 'CH4 (mmol/m^3)', 'CH4 Temperature', 'CH4 Pressure', 'CH4 Signal Strength', 'CH4 Diagnostic Value', 'CH4 Drop Rate (%)', 'CHK']}, 'status': {'Model': 'LI-7700', 'SN': 'TG1-0452', 'Instrument': 'TG1-0452', 'File Type': '2', 'Software Version': '1.0.23', 'Timestamp': '15:00:00', 'Timezone': 'US/Mountain', 'Header': ['DATASTATH', 'MSEC', 'SECONDS', 'NANOSECONDS', 'DIAG', 'RSSI', 'REFRSSI', 'LCTSETPT', 'LCTACTUAL', 'BCTSETPT', 'BCTACTUAL', 'CHASSISTEMP', 'OPTICSTEMP', 'OPTICSRH', 'AUXREFTEMP', 'MOTORSETPT', 'MOTORACTUAL', 'USB', 'USBCAPACITY', 'USBFREESPACE', 'REF', 'GND', 'OPTICSTDELTA', 'BOTTOMHEATERW', 'TOPHEATERW', 'CHK']}, 'metadata': {'Site': {'site_name': 'Mackenzie2017', 'altitude': '-3.2', 'latitude': '69.37231445', 'longitude': '-134.8810577', 'canopy_height': '10', 'displacement_height': '0', 'roughness_length': '0'}, 'Station': {'station_name': '', 'logger_id': 'AIU-1697', 'logger_sw_version': '8.0.0'}, 'Timing': {'acquisition_frequency': '20.0', 'file_duration': '30'}, 'Instruments': {'instr_1_manufacturer': 'csi', 'instr_1_model': 'csat3_1', 'instr_1_sn': '', 'instr_1_sw_version': '4.0', 'instr_1_id': '', 'instr_1_height': '.21', 'instr_1_wformat': 'uvw', 'instr_1_wref': 'spar', 'instr_1_north_offset': '35', 'instr_1_head_corr': '1', 'instr_1_northward_separation': '0.0', 'instr_1_eastward_separation': '0.0', 'instr_1_vertical_separation': '0.0', 'instr_2_manufacturer': 'licor', 'instr_2_model': 'li7200rs_1', 'instr_2_sn': '72H-0816', 'instr_2_id': 'AIU-1697', 'instr_2_sw_version': '8.0.0', 'instr_2_tube_length': '15', 'instr_2_tube_diameter': '5', 'instr_2_tube_flowrate': '15', 'instr_2_northward_separation': '0', 'instr_2_eastward_separation': '5', 'instr_2_vertical_separation': '0.0', 'instr_3_manufacturer': 'licor', 'instr_3_model': 'li7700_2', 'instr_3_sn': 'TG1-0452', 'instr_3_id': 'TG1-0452', 'instr_3_sw_version': '1.0.23', 'instr_3_tube_length': '0.0', 'instr_3_tube_diameter': '0.0', 'instr_3_tube_flowrate': '0.0', 'instr_3_northward_separation': '0', 'instr_3_eastward_separation': '15', 'instr_3_vertical_separation': '0'}, 'FileDescription': {'separator': 'tab', 'flag_discards_if_above': '0', 'header_rows': '8', 'data_label': 'DATA', 'col_1_variable': 'ignore', 'col_1_instrument': 'li7200rs_1', 'col_1_measure_type': '', 'col_1_unit_in': '', 'col_1_conversion': 'none', 'col_1_min_value': '0', 'col_1_max_value': '0', 'col_1_unit_out': '', 'col_1_a_value': '0', 'col_1_b_value': '0', 'col_1_nom_timelag': '0', 'col_1_min_timelag': '0.0', 'col_1_max_timelag': '0', 'col_2_variable': 'ignore', 'col_2_instrument': 'li7200rs_1', 'col_2_measure_type': '', 'col_2_unit_in': '', 'col_2_conversion': 'none', 'col_2_min_value': '0', 'col_2_max_value': '0', 'col_2_unit_out': '', 'col_2_a_value': '0', 'col_2_b_value': '0', 'col_2_nom_timelag': '0', 'col_2_min_timelag': '0.0', 'col_2_max_timelag': '0', 'col_3_variable': 'ignore', 'col_3_instrument': 'li7200rs_1', 'col_3_measure_type': '', 'col_3_unit_in': '', 'col_3_conversion': 'none', 'col_3_min_value': '0', 'col_3_max_value': '0', 'col_3_unit_out': '', 'col_3_a_value': '0', 'col_3_b_value': '0', 'col_3_nom_timelag': '0', 'col_3_min_timelag': '0.0', 'col_3_max_timelag': '0', 'col_4_variable': 'diag_72', 'col_4_instrument': 'li7200rs_1', 'col_4_measure_type': '', 'col_4_unit_in': '', 'col_4_conversion': 'none', 'col_4_min_value': '0', 'col_4_max_value': '0', 'col_4_unit_out': '', 'col_4_a_value': '0', 'col_4_b_value': '0', 'col_4_nom_timelag': '0', 'col_4_min_timelag': '0.0', 'col_4_max_timelag': '0', 'col_5_variable': 'ignore', 'col_5_instrument': 'li7200rs_1', 'col_5_measure_type': '', 'col_5_unit_in': '', 'col_5_conversion': 'none', 'col_5_min_value': '0', 'col_5_max_value': '0', 'col_5_unit_out': '', 'col_5_a_value': '0', 'col_5_b_value': '0', 'col_5_nom_timelag': '0', 'col_5_min_timelag': '0.0', 'col_5_max_timelag': '0', 'col_6_variable': 'not_numeric', 'col_6_instrument': 'li7200rs_1', 'col_6_measure_type': '', 'col_6_unit_in': '', 'col_6_conversion': 'none', 'col_6_min_value': '0', 'col_6_max_value': '0', 'col_6_unit_out': '', 'col_6_a_value': '0', 'col_6_b_value': '0', 'col_6_nom_timelag': '0', 'col_6_min_timelag': '0.0', 'col_6_max_timelag': '0', 'col_7_variable': 'not_numeric', 'col_7_instrument': 'li7200rs_1', 'col_7_measure_type': '', 'col_7_unit_in': '', 'col_7_conversion': 'none', 'col_7_min_value': '0', 'col_7_max_value': '0', 'col_7_unit_out': '', 'col_7_a_value': '0', 'col_7_b_value': '0', 'col_7_nom_timelag': '0', 'col_7_min_timelag': '0.0', 'col_7_max_timelag': '0', 'col_8_variable': 'ignore', 'col_8_instrument': 'li7200rs_1', 'col_8_measure_type': '', 'col_8_unit_in': '', 'col_8_conversion': 'none', 'col_8_min_value': '0', 'col_8_max_value': '0', 'col_8_unit_out': '', 'col_8_a_value': '0', 'col_8_b_value': '0', 'col_8_nom_timelag': '0', 'col_8_min_timelag': '0.0', 'col_8_max_timelag': '0', 'col_9_variable': 'ignore', 'col_9_instrument': 'li7200rs_1', 'col_9_measure_type': '', 'col_9_unit_in': '', 'col_9_conversion': 'none', 'col_9_min_value': '0', 'col_9_max_value': '0', 'col_9_unit_out': '', 'col_9_a_value': '0', 'col_9_b_value': '0', 'col_9_nom_timelag': '0', 'col_9_min_timelag': '0.0', 'col_9_max_timelag': '0', 'col_10_variable': 'co2', 'col_10_instrument': 'li7200rs_1', 'col_10_measure_type': 'molar_density', 'col_10_unit_in': 'mmol_m3', 'col_10_conversion': 'none', 'col_10_min_value': '0', 'col_10_max_value': '0', 'col_10_unit_out': '', 'col_10_a_value': '0', 'col_10_b_value': '0', 'col_10_nom_timelag': '0.0117756', 'col_10_min_timelag': '0.0', 'col_10_max_timelag': '0.0235511', 'col_11_variable': 'ignore', 'col_11_instrument': 'li7200rs_1', 'col_11_measure_type': '', 'col_11_unit_in': '', 'col_11_conversion': 'none', 'col_11_min_value': '0', 'col_11_max_value': '0', 'col_11_unit_out': '', 'col_11_a_value': '0', 'col_11_b_value': '0', 'col_11_nom_timelag': '0', 'col_11_min_timelag': '0.0', 'col_11_max_timelag': '0', 'col_12_variable': 'h2o', 'col_12_instrument': 'li7200rs_1', 'col_12_measure_type': 'molar_density', 'col_12_unit_in': 'mmol_m3', 'col_12_conversion': 'none', 'col_12_min_value': '0', 'col_12_max_value': '0', 'col_12_unit_out': '', 'col_12_a_value': '0', 'col_12_b_value': '0', 'col_12_nom_timelag': '0.0117756', 'col_12_min_timelag': '0.0', 'col_12_max_timelag': '0.117756', 'col_13_variable': 'ignore', 'col_13_instrument': 'li7200rs_1', 'col_13_measure_type': '', 'col_13_unit_in': '', 'col_13_conversion': 'none', 'col_13_min_value': '0', 'col_13_max_value': '0', 'col_13_unit_out': '', 'col_13_a_value': '0', 'col_13_b_value': '0', 'col_13_nom_timelag': '0', 'col_13_min_timelag': '0.0', 'col_13_max_timelag': '0', 'col_14_variable': 'ignore', 'col_14_instrument': 'li7200rs_1', 'col_14_measure_type': '', 'col_14_unit_in': 'celsius', 'col_14_conversion': 'none', 'col_14_min_value': '0', 'col_14_max_value': '0', 'col_14_unit_out': '', 'col_14_a_value': '0', 'col_14_b_value': '0', 'col_14_nom_timelag': '0', 'col_14_min_timelag': '0.0', 'col_14_max_timelag': '0', 'col_15_variable': 'int_p', 'col_15_instrument': 'li7200rs_1', 'col_15_measure_type': '', 'col_15_unit_in': 'kpa', 'col_15_conversion': 'none', 'col_15_min_value': '0', 'col_15_max_value': '0', 'col_15_unit_out': '', 'col_15_a_value': '0', 'col_15_b_value': '0', 'col_15_nom_timelag': '0', 'col_15_min_timelag': '0.0', 'col_15_max_timelag': '0', 'col_16_variable': 'air_p', 'col_16_instrument': 'li7200rs_1', 'col_16_measure_type': '', 'col_16_unit_in': 'kpa', 'col_16_conversion': 'none', 'col_16_min_value': '0', 'col_16_max_value': '0', 'col_16_unit_out': '', 'col_16_a_value': '0', 'col_16_b_value': '0', 'col_16_nom_timelag': '0', 'col_16_min_timelag': '0.0', 'col_16_max_timelag': '0', 'col_17_variable': 'ignore', 'col_17_instrument': 'li7200rs_1', 'col_17_measure_type': '', 'col_17_unit_in': '', 'col_17_conversion': 'none', 'col_17_min_value': '0', 'col_17_max_value': '0', 'col_17_unit_out': '', 'col_17_a_value': '0', 'col_17_b_value': '0', 'col_17_nom_timelag': '0', 'col_17_min_timelag': '0.0', 'col_17_max_timelag': '0', 'col_18_variable': 'u', 'col_18_instrument': 'csat3_1', 'col_18_measure_type': '', 'col_18_unit_in': 'm_sec', 'col_18_conversion': 'none', 'col_18_min_value': '0', 'col_18_max_value': '0', 'col_18_unit_out': '', 'col_18_a_value': '0', 'col_18_b_value': '0', 'col_18_nom_timelag': '0', 'col_18_min_timelag': '0.0', 'col_18_max_timelag': '0', 'col_19_variable': 'v', 'col_19_instrument': 'csat3_1', 'col_19_measure_type': '', 'col_19_unit_in': 'm_sec', 'col_19_conversion': 'none', 'col_19_min_value': '0', 'col_19_max_value': '0', 'col_19_unit_out': '', 'col_19_a_value': '0', 'col_19_b_value': '0', 'col_19_nom_timelag': '0', 'col_19_min_timelag': '0.0', 'col_19_max_timelag': '0', 'col_20_variable': 'w', 'col_20_instrument': 'csat3_1', 'col_20_measure_type': '', 'col_20_unit_in': 'm_sec', 'col_20_conversion': 'none', 'col_20_min_value': '0', 'col_20_max_value': '0', 'col_20_unit_out': '', 'col_20_a_value': '0', 'col_20_b_value': '0', 'col_20_nom_timelag': '0', 'col_20_min_timelag': '0.0', 'col_20_max_timelag': '0', 'col_21_variable': 'sos', 'col_21_instrument': 'csat3_1', 'col_21_measure_type': '', 'col_21_unit_in': 'm_sec', 'col_21_conversion': 'none', 'col_21_min_value': '0', 'col_21_max_value': '0', 'col_21_unit_out': '', 'col_21_a_value': '0', 'col_21_b_value': '0', 'col_21_nom_timelag': '0', 'col_21_min_timelag': '0.0', 'col_21_max_timelag': '0', 'col_22_variable': 'ignore', 'col_22_instrument': 'li7200rs_1', 'col_22_measure_type': '', 'col_22_unit_in': '', 'col_22_conversion': 'none', 'col_22_min_value': '0', 'col_22_max_value': '0', 'col_22_unit_out': '', 'col_22_a_value': '0', 'col_22_b_value': '0', 'col_22_nom_timelag': '0', 'col_22_min_timelag': '0.0', 'col_22_max_timelag': '0', 'col_23_variable': 'ignore', 'col_23_instrument': 'li7200rs_1', 'col_23_measure_type': '', 'col_23_unit_in': '', 'col_23_conversion': 'none', 'col_23_min_value': '0', 'col_23_max_value': '0', 'col_23_unit_out': '', 'col_23_a_value': '0', 'col_23_b_value': '0', 'col_23_nom_timelag': '0', 'col_23_min_timelag': '0.0', 'col_23_max_timelag': '0', 'col_24_variable': 'vin_sf', 'col_24_instrument': 'li7200rs_1', 'col_24_measure_type': '', 'col_24_unit_in': 'V', 'col_24_conversion': 'none', 'col_24_min_value': '0', 'col_24_max_value': '0', 'col_24_unit_out': '', 'col_24_a_value': '0', 'col_24_b_value': '0', 'col_24_nom_timelag': '0', 'col_24_min_timelag': '0.0', 'col_24_max_timelag': '0', 'col_25_variable': 'co2', 'col_25_instrument': 'li7200rs_1', 'col_25_measure_type': 'mole_fraction', 'col_25_unit_in': 'ppm', 'col_25_conversion': 'none', 'col_25_min_value': '0', 'col_25_max_value': '0', 'col_25_unit_out': '', 'col_25_a_value': '0', 'col_25_b_value': '0', 'col_25_nom_timelag': '0.0117756', 'col_25_min_timelag': '0.0', 'col_25_max_timelag': '0.0235511', 'col_26_variable': 'co2', 'col_26_instrument': 'li7200rs_1', 'col_26_measure_type': 'mixing_ratio', 'col_26_unit_in': 'ppm', 'col_26_conversion': 'none', 'col_26_min_value': '0', 'col_26_max_value': '0', 'col_26_unit_out': '', 'col_26_a_value': '0', 'col_26_b_value': '0', 'col_26_nom_timelag': '0.0117756', 'col_26_min_timelag': '0.0', 'col_26_max_timelag': '0.0235511', 'col_27_variable': 'h2o', 'col_27_instrument': 'li7200rs_1', 'col_27_measure_type': 'mole_fraction', 'col_27_unit_in': 'ppt', 'col_27_conversion': 'none', 'col_27_min_value': '0', 'col_27_max_value': '0', 'col_27_unit_out': '', 'col_27_a_value': '0', 'col_27_b_value': '0', 'col_27_nom_timelag': '0.0117756', 'col_27_min_timelag': '0.0', 'col_27_max_timelag': '0.117756', 'col_28_variable': 'h2o', 'col_28_instrument': 'li7200rs_1', 'col_28_measure_type': 'mixing_ratio', 'col_28_unit_in': 'ppt', 'col_28_conversion': 'none', 'col_28_min_value': '0', 'col_28_max_value': '0', 'col_28_unit_out': '', 'col_28_a_value': '0', 'col_28_b_value': '0', 'col_28_nom_timelag': '0.0117756', 'col_28_min_timelag': '0.0', 'col_28_max_timelag': '0.117756', 'col_29_variable': 'dew_point', 'col_29_instrument': 'li7200rs_1', 'col_29_measure_type': '', 'col_29_unit_in': 'celsius', 'col_29_conversion': 'none', 'col_29_min_value': '0', 'col_29_max_value': '0', 'col_29_unit_out': '', 'col_29_a_value': '0', 'col_29_b_value': '0', 'col_29_nom_timelag': '0', 'col_29_min_timelag': '0.0', 'col_29_max_timelag': '0', 'col_30_variable': 'cell_t', 'col_30_instrument': 'li7200rs_1', 'col_30_measure_type': '', 'col_30_unit_in': 'celsius', 'col_30_conversion': 'none', 'col_30_min_value': '0', 'col_30_max_value': '0', 'col_30_unit_out': '', 'col_30_a_value': '0', 'col_30_b_value': '0', 'col_30_nom_timelag': '0', 'col_30_min_timelag': '0.0', 'col_30_max_timelag': '0', 'col_31_variable': 'int_t_1', 'col_31_instrument': 'li7200rs_1', 'col_31_measure_type': '', 'col_31_unit_in': 'celsius', 'col_31_conversion': 'none', 'col_31_min_value': '0', 'col_31_max_value': '0', 'col_31_unit_out': '', 'col_31_a_value': '0', 'col_31_b_value': '0', 'col_31_nom_timelag': '0', 'col_31_min_timelag': '0.0', 'col_31_max_timelag': '0', 'col_32_variable': 'int_t_2', 'col_32_instrument': 'li7200rs_1', 'col_32_measure_type': '', 'col_32_unit_in': 'celsius', 'col_32_conversion': 'none', 'col_32_min_value': '0', 'col_32_max_value': '0', 'col_32_unit_out': '', 'col_32_a_value': '0', 'col_32_b_value': '0', 'col_32_nom_timelag': '0', 'col_32_min_timelag': '0.0', 'col_32_max_timelag': '0', 'col_33_variable': 'avg_signal_strength_7200', 'col_33_instrument': 'li7200rs_1', 'col_33_measure_type': '', 'col_33_unit_in': '', 'col_33_conversion': 'none', 'col_33_min_value': '0', 'col_33_max_value': '0', 'col_33_unit_out': '', 'col_33_a_value': '0', 'col_33_b_value': '0', 'col_33_nom_timelag': '0', 'col_33_min_timelag': '0.0', 'col_33_max_timelag': '0', 'col_34_variable': 'co2_signal_strength_7200', 'col_34_instrument': 'li7200rs_1', 'col_34_measure_type': '', 'col_34_unit_in': '', 'col_34_conversion': 'none', 'col_34_min_value': '0', 'col_34_max_value': '0', 'col_34_unit_out': '', 'col_34_a_value': '0', 'col_34_b_value': '0', 'col_34_nom_timelag': '0', 'col_34_min_timelag': '0.0', 'col_34_max_timelag': '0', 'col_35_variable': 'h2o_signal_strength_7200', 'col_35_instrument': 'li7200rs_1', 'col_35_measure_type': '', 'col_35_unit_in': '', 'col_35_conversion': 'none', 'col_35_min_value': '0', 'col_35_max_value': '0', 'col_35_unit_out': '', 'col_35_a_value': '0', 'col_35_b_value': '0', 'col_35_nom_timelag': '0', 'col_35_min_timelag': '0.0', 'col_35_max_timelag': '0', 'col_36_variable': 'delta_signal_strength_7200', 'col_36_instrument': 'li7200rs_1', 'col_36_measure_type': '', 'col_36_unit_in': '', 'col_36_conversion': 'none', 'col_36_min_value': '0', 'col_36_max_value': '0', 'col_36_unit_out': '', 'col_36_a_value': '0', 'col_36_b_value': '0', 'col_36_nom_timelag': '0', 'col_36_min_timelag': '0.0', 'col_36_max_timelag': '0', 'col_37_variable': 'ignore', 'col_37_instrument': 'li7200rs_1', 'col_37_measure_type': '', 'col_37_unit_in': '', 'col_37_conversion': 'none', 'col_37_min_value': '0', 'col_37_max_value': '0', 'col_37_unit_out': '', 'col_37_a_value': '0', 'col_37_b_value': '0', 'col_37_nom_timelag': '0', 'col_37_min_timelag': '0.0', 'col_37_max_timelag': '0', 'col_38_variable': 'flowrate', 'col_38_instrument': 'li7200rs_1', 'col_38_measure_type': '', 'col_38_unit_in': 'lit_m', 'col_38_conversion': 'none', 'col_38_min_value': '0', 'col_38_max_value': '0', 'col_38_unit_out': '', 'col_38_a_value': '0', 'col_38_b_value': '0', 'col_38_nom_timelag': '0', 'col_38_min_timelag': '0.0', 'col_38_max_timelag': '0', 'col_39_variable': 'ignore', 'col_39_instrument': 'li7200rs_1', 'col_39_measure_type': '', 'col_39_unit_in': '', 'col_39_conversion': 'none', 'col_39_min_value': '0', 'col_39_max_value': '0', 'col_39_unit_out': '', 'col_39_a_value': '0', 'col_39_b_value': '0', 'col_39_nom_timelag': '0', 'col_39_min_timelag': '0.0', 'col_39_max_timelag': '0', 'col_40_variable': 'ignore', 'col_40_instrument': 'li7200rs_1', 'col_40_measure_type': '', 'col_40_unit_in': '', 'col_40_conversion': 'none', 'col_40_min_value': '0', 'col_40_max_value': '0', 'col_40_unit_out': '', 'col_40_a_value': '0', 'col_40_b_value': '0', 'col_40_nom_timelag': '0', 'col_40_min_timelag': '0.0', 'col_40_max_timelag': '0', 'col_41_variable': 'ignore', 'col_41_instrument': 'li7200rs_1', 'col_41_measure_type': '', 'col_41_unit_in': '', 'col_41_conversion': 'none', 'col_41_min_value': '0', 'col_41_max_value': '0', 'col_41_unit_out': '', 'col_41_a_value': '0', 'col_41_b_value': '0', 'col_41_nom_timelag': '0', 'col_41_min_timelag': '0.0', 'col_41_max_timelag': '0', 'col_42_variable': 'ignore', 'col_42_instrument': 'li7200rs_1', 'col_42_measure_type': '', 'col_42_unit_in': '', 'col_42_conversion': 'none', 'col_42_min_value': '0', 'col_42_max_value': '0', 'col_42_unit_out': '', 'col_42_a_value': '0', 'col_42_b_value': '0', 'col_42_nom_timelag': '0', 'col_42_min_timelag': '0.0', 'col_42_max_timelag': '0', 'col_43_variable': 'ignore', 'col_43_instrument': 'li7200rs_1', 'col_43_measure_type': '', 'col_43_unit_in': '', 'col_43_conversion': 'none', 'col_43_min_value': '0', 'col_43_max_value': '0', 'col_43_unit_out': '', 'col_43_a_value': '0', 'col_43_b_value': '0', 'col_43_nom_timelag': '0', 'col_43_min_timelag': '0.0', 'col_43_max_timelag': '0', 'col_44_variable': 'ignore', 'col_44_instrument': 'li7200rs_1', 'col_44_measure_type': '', 'col_44_unit_in': '', 'col_44_conversion': 'none', 'col_44_min_value': '0', 'col_44_max_value': '0', 'col_44_unit_out': '', 'col_44_a_value': '0', 'col_44_b_value': '0', 'col_44_nom_timelag': '0', 'col_44_min_timelag': '0.0', 'col_44_max_timelag': '0', 'col_45_variable': 'ignore', 'col_45_instrument': 'li7200rs_1', 'col_45_measure_type': '', 'col_45_unit_in': '', 'col_45_conversion': 'none', 'col_45_min_value': '0', 'col_45_max_value': '0', 'col_45_unit_out': '', 'col_45_a_value': '0', 'col_45_b_value': '0', 'col_45_nom_timelag': '0', 'col_45_min_timelag': '0.0', 'col_45_max_timelag': '0', 'col_46_variable': 'hit_power', 'col_46_instrument': 'li7200rs_1', 'col_46_measure_type': '', 'col_46_unit_in': '', 'col_46_conversion': 'none', 'col_46_min_value': '0', 'col_46_max_value': '0', 'col_46_unit_out': '', 'col_46_a_value': '0', 'col_46_b_value': '0', 'col_46_nom_timelag': '0', 'col_46_min_timelag': '0.0', 'col_46_max_timelag': '0', 'col_47_variable': 'hit_vin', 'col_47_instrument': 'li7200rs_1', 'col_47_measure_type': '', 'col_47_unit_in': '', 'col_47_conversion': 'none', 'col_47_min_value': '0', 'col_47_max_value': '0', 'col_47_unit_out': '', 'col_47_a_value': '0', 'col_47_b_value': '0', 'col_47_nom_timelag': '0', 'col_47_min_timelag': '0.0', 'col_47_max_timelag': '0', 'col_48_variable': 'ignore', 'col_48_instrument': 'li7700_2', 'col_48_measure_type': '', 'col_48_unit_in': '', 'col_48_conversion': 'none', 'col_48_min_value': '0', 'col_48_max_value': '0', 'col_48_unit_out': '', 'col_48_a_value': '0', 'col_48_b_value': '0', 'col_48_nom_timelag': '0', 'col_48_min_timelag': '0.0', 'col_48_max_timelag': '0', 'col_49_variable': 'ignore', 'col_49_instrument': 'li7700_2', 'col_49_measure_type': '', 'col_49_unit_in': '', 'col_49_conversion': 'none', 'col_49_min_value': '0', 'col_49_max_value': '0', 'col_49_unit_out': '', 'col_49_a_value': '0', 'col_49_b_value': '0', 'col_49_nom_timelag': '0', 'col_49_min_timelag': '0.0', 'col_49_max_timelag': '0', 'col_50_variable': 'ch4', 'col_50_instrument': 'li7700_2', 'col_50_measure_type': 'mole_fraction', 'col_50_unit_in': 'ppm', 'col_50_conversion': 'none', 'col_50_min_value': '0', 'col_50_max_value': '0', 'col_50_unit_out': '', 'col_50_a_value': '0', 'col_50_b_value': '0', 'col_50_nom_timelag': '0', 'col_50_min_timelag': '0.0', 'col_50_max_timelag': '0', 'col_51_variable': 'ch4', 'col_51_instrument': 'li7700_2', 'col_51_measure_type': 'molar_density', 'col_51_unit_in': 'mmol_m3', 'col_51_conversion': 'none', 'col_51_min_value': '0', 'col_51_max_value': '0', 'col_51_unit_out': '', 'col_51_a_value': '0', 'col_51_b_value': '0', 'col_51_nom_timelag': '0', 'col_51_min_timelag': '0.0', 'col_51_max_timelag': '0', 'col_52_variable': 'air_t', 'col_52_instrument': 'li7700_2', 'col_52_measure_type': '', 'col_52_unit_in': 'celsius', 'col_52_conversion': 'none', 'col_52_min_value': '0', 'col_52_max_value': '0', 'col_52_unit_out': '', 'col_52_a_value': '0', 'col_52_b_value': '0', 'col_52_nom_timelag': '0', 'col_52_min_timelag': '0.0', 'col_52_max_timelag': '0', 'col_53_variable': 'air_p', 'col_53_instrument': 'li7700_2', 'col_53_measure_type': '', 'col_53_unit_in': 'kpa', 'col_53_conversion': 'none', 'col_53_min_value': '0', 'col_53_max_value': '0', 'col_53_unit_out': '', 'col_53_a_value': '0', 'col_53_b_value': '0', 'col_53_nom_timelag': '0', 'col_53_min_timelag': '0.0', 'col_53_max_timelag': '0', 'col_54_variable': 'rssi_77', 'col_54_instrument': 'li7700_2', 'col_54_measure_type': '', 'col_54_unit_in': '', 'col_54_conversion': 'none', 'col_54_min_value': '0', 'col_54_max_value': '0', 'col_54_unit_out': '', 'col_54_a_value': '0', 'col_54_b_value': '0', 'col_54_nom_timelag': '0', 'col_54_min_timelag': '0.0', 'col_54_max_timelag': '0', 'col_55_variable': 'diag_77', 'col_55_instrument': 'li7700_2', 'col_55_measure_type': '', 'col_55_unit_in': '', 'col_55_conversion': 'none', 'col_55_min_value': '0', 'col_55_max_value': '0', 'col_55_unit_out': '', 'col_55_a_value': '0', 'col_55_b_value': '0', 'col_55_nom_timelag': '0', 'col_55_min_timelag': '0.0', 'col_55_max_timelag': '0', 'col_56_variable': 'ignore', 'col_56_instrument': 'li7700_2', 'col_56_measure_type': '', 'col_56_unit_in': '', 'col_56_conversion': 'none', 'col_56_min_value': '0', 'col_56_max_value': '0', 'col_56_unit_out': '', 'col_56_a_value': '0', 'col_56_b_value': '0', 'col_56_nom_timelag': '0', 'col_56_min_timelag': '0.0', 'col_56_max_timelag': '0', 'col_57_variable': 'ignore', 'col_57_instrument': 'li7200rs_1', 'col_57_measure_type': '', 'col_57_unit_in': '', 'col_57_conversion': 'none', 'col_57_min_value': '0', 'col_57_max_value': '0', 'col_57_unit_out': '', 'col_57_a_value': '0', 'col_57_b_value': '0', 'col_57_nom_timelag': '0', 'col_57_min_timelag': '0.0', 'col_57_max_timelag': '0'}}}}\n"
     ]
    }
   ],
   "source": [
    "for key,value in myProject.currentView.archive.items():\n",
    "    print(key)\n",
    "    for k,v in value.items():\n",
    "        print(k)\n",
    "        print(v['Metadata'])\n"
   ]
  },
  {
   "cell_type": "code",
   "execution_count": 159,
   "metadata": {},
   "outputs": [
    {
     "name": "stdout",
     "output_type": "stream",
     "text": [
      "dictionary_item_added:\n",
      "  test_add:\n",
      "    b: Kp\n",
      "dictionary_item_removed:\n",
      "  test_rem: Na\n",
      "  test_rem2:\n",
      "    a: Nap\n",
      "values_changed:\n",
      "  Frequency:\n",
      "    new_value: 10Hz\n",
      "    old_value: 1Hz\n",
      "    acceptChange: true\n",
      "  fileContents:\n",
      "    metadata:\n",
      "      Timing:\n",
      "        acquisition_frequency:\n",
      "          new_value: '10.0'\n",
      "          old_value: '1.0'\n",
      "          acceptChange: true\n",
      "      Instruments:\n",
      "        instr_1_height:\n",
      "          new_value: '.21'\n",
      "          old_value: '3'\n",
      "          acceptChange: true\n",
      "        instr_1_north_offset:\n",
      "          new_value: '35'\n",
      "          old_value: '0'\n",
      "          acceptChange: true\n",
      "        instr_2_tube_length:\n",
      "          new_value: '15'\n",
      "          old_value: '33'\n",
      "          acceptChange: true\n",
      "\n"
     ]
    }
   ],
   "source": [
    "Key = 'GHG_LI-7200RS_AIU-1697'\n",
    "k1 =  '_metadata_Smartflux8.0.0_1Hz_2017-06-22T1930.yml'\n",
    "k2 =  '_metadata_Smartflux8.0.0_10Hz_2017-07-26T0130.yml'\n",
    "tmp1 = myProject.currentView.archive[Key][k1]['Metadata'].copy()\n",
    "tmp2 = myProject.currentView.archive[Key][k2]['Metadata'].copy()\n",
    "import deepdiff\n",
    "import yaml\n",
    "\n",
    "ignore_Metadata = [r\"root.*\\['Timestamp']\\.*\",\n",
    "                r\"root.*\\['Source']\\.*\",\n",
    "                r\"root.*\\['Timestamp']\\.*\",\n",
    "                r\"root.*\\['canopy_height']\\.*\",\n",
    "                r\"root.*\\['altitude']\\.*\",\n",
    "                r\"root.*\\['latitude']\\.*\",\n",
    "                r\"root.*\\['longitude']\\.*\",\n",
    "                r\"root.*\\_tube_flowrate']\\.*\",\n",
    "                r\"root.*\\_timelag']\\.*\",\n",
    "                ]\n",
    "\n",
    "def exclude_callback(obj, path):\n",
    "    # Exclude any dictionary where 'ignore': True\n",
    "    if isinstance(obj, dict) and obj.get('ignore') is True:\n",
    "        return True\n",
    "    return False\n",
    "\n",
    "tmp1['test_rem'] = 'Na'\n",
    "tmp1['test_rem2'] = {}\n",
    "tmp1['test_rem2']['a'] = 'Nap'\n",
    "tmp2['test_add'] = {}\n",
    "tmp2['test_add']['b'] = 'Kp'\n",
    "dd = deepdiff.DeepDiff(tmp1,tmp2,ignore_order=True,exclude_regex_paths=ignore_Metadata,exclude_obj_callback=exclude_callback)\n",
    "\n",
    "def dd_to_dict(dd,d1,d2):\n",
    "    def nupdate(mainD,dIn):\n",
    "        for key,value in dIn.items():\n",
    "            if key not in mainD:\n",
    "                mainD[key] = value\n",
    "            else:\n",
    "                mainD[key] = nupdate(mainD[key],value)\n",
    "        return(mainD)\n",
    "            \n",
    "    dDict = {}\n",
    "    for key,diff in dd.items():\n",
    "        if key == 'values_changed':\n",
    "            dDict[key] = {}\n",
    "            for root,data in diff.items():\n",
    "                dpth = root.replace(\"root['\",'').rstrip(\"']\").split(\"']['\")\n",
    "                d = {}\n",
    "                for i,dp in enumerate(dpth[::-1]):\n",
    "                    if i == 0:\n",
    "                        data['acceptChange'] = True\n",
    "                        d = {dp:data}\n",
    "                    else:\n",
    "                        d = {dp:d}\n",
    "                dDict[key] = nupdate(dDict[key],d)\n",
    "        elif key == 'dictionary_item_added':\n",
    "            d = {}\n",
    "            for item in diff:\n",
    "                dpth = item.replace(\"root['\",'').rstrip(\"']\")\n",
    "                d[dpth] = d2[dpth]\n",
    "            dDict[key] = d\n",
    "        elif key == 'dictionary_item_removed':\n",
    "            d = {}\n",
    "            for item in diff:\n",
    "                dpth = item.replace(\"root['\",'').rstrip(\"']\")\n",
    "                d[dpth] = d1[dpth]\n",
    "            dDict[key] = d\n",
    "    return(dDict)\n",
    "        \n",
    "\n",
    "dupdated = dd_to_dict(dd,tmp1,tmp2)\n",
    "print(yaml.dump(dupdated,sort_keys=False))"
   ]
  },
  {
   "cell_type": "code",
   "execution_count": 122,
   "metadata": {},
   "outputs": [
    {
     "name": "stdout",
     "output_type": "stream",
     "text": [
      "{2: {1: {0: 'a'}}}\n"
     ]
    }
   ],
   "source": [
    "\n",
    "for i in range(3):\n",
    "    if i > 0:\n",
    "        d = {i:d}\n",
    "    else:\n",
    "        d = {i:'a'}\n",
    "#     if d != {}:\n",
    "#         d = {i:d[i-1]}\n",
    "#     else:\n",
    "#         d[i] = {}\n",
    "#         print(d)\n",
    "print(d)"
   ]
  },
  {
   "cell_type": "code",
   "execution_count": null,
   "metadata": {},
   "outputs": [],
   "source": []
  }
 ],
 "metadata": {
  "kernelspec": {
   "display_name": "Python 3",
   "language": "python",
   "name": "python3"
  },
  "language_info": {
   "codemirror_mode": {
    "name": "ipython",
    "version": 3
   },
   "file_extension": ".py",
   "mimetype": "text/x-python",
   "name": "python",
   "nbconvert_exporter": "python",
   "pygments_lexer": "ipython3",
   "version": "3.10.4"
  }
 },
 "nbformat": 4,
 "nbformat_minor": 2
}
