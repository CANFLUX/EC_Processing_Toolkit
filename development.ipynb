{
 "cells": [
  {
   "cell_type": "code",
   "execution_count": 1,
   "metadata": {},
   "outputs": [
    {
     "name": "stdout",
     "output_type": "stream",
     "text": [
      "e:\\EC_Processing_Toolkit/temp/\n"
     ]
    }
   ],
   "source": [
    "import os,shutil,importlib\n",
    "import ecProject as dev\n",
    "importlib.reload(dev)\n",
    "\n",
    "projectPath = os.getcwd()+'/temp/'\n",
    "if os.path.isdir(projectPath):\n",
    "    print(projectPath)\n",
    "    shutil.rmtree(projectPath)\n",
    "myProject = dev.makeProject(projectPath)"
   ]
  },
  {
   "cell_type": "code",
   "execution_count": 45,
   "metadata": {},
   "outputs": [
    {
     "name": "stdout",
     "output_type": "stream",
     "text": [
      "siteID SCL\n",
      "{'siteID': None, 'inputPath': [None, None], 'mode': 'copy', 'fileType': [None], 'searchTag': [], 'excludeTag': []}\n",
      "inputPath [['E:\\\\temp', '20240724'], ['E:\\\\temp', '20240914']]\n",
      "{'siteID': None, 'inputPath': [None, None], 'mode': 'copy', 'fileType': [None], 'searchTag': [], 'excludeTag': []}\n",
      "mode copy\n",
      "{'siteID': None, 'inputPath': [None, None], 'mode': 'copy', 'fileType': [None], 'searchTag': [], 'excludeTag': []}\n",
      "fileType [None]\n",
      "{'siteID': None, 'inputPath': [None, None], 'mode': 'copy', 'fileType': [None], 'searchTag': [], 'excludeTag': []}\n",
      "searchTag []\n",
      "{'siteID': None, 'inputPath': [None, None], 'mode': 'copy', 'fileType': [None], 'searchTag': [], 'excludeTag': []}\n",
      "excludeTag []\n",
      "{'siteID': None, 'inputPath': [None, None], 'mode': 'copy', 'fileType': [None], 'searchTag': [], 'excludeTag': []}\n",
      "File Type Not Supported\n",
      "Ambiguous, cannot autodetect DEF file\n",
      "Cannot parse without DEF file\n",
      "Warning: still under development, check the timestamp\n",
      "add case for csv\n",
      "Warning: still under development, check the timestamp\n",
      "add case for csv\n",
      "File Type Not Supported\n",
      "Warning: still under development, check the timestamp\n",
      "Confirm dateutil parser works!\n",
      "Warning: still under development, check the timestamp\n",
      "Confirm dateutil parser works!\n",
      "Warning: still under development, check the timestamp\n",
      "add case for csv\n"
     ]
    }
   ],
   "source": [
    "importlib.reload(dev)\n",
    "\n",
    "myProject = dev.importRawData(\n",
    "    projectPath,\n",
    "    siteID = 'SCL',\n",
    "    inputPath = [[r'E:\\temp',s] for s in ['20240724','20240914']],\n",
    "    # inputPath=[r'E:\\temp\\\\','20240914'],\n",
    "    # inputPath=r'E:\\GSC_Work\\SCL_2024',\n",
    "    # mode='map',\n",
    "    # fileType=['TOB3']\n",
    "    )"
   ]
  },
  {
   "cell_type": "code",
   "execution_count": 46,
   "metadata": {},
   "outputs": [
    {
     "name": "stdout",
     "output_type": "stream",
     "text": [
      "Header_Add\n",
      "Header_Add\n",
      "Header_Add\n",
      "StationName\n"
     ]
    }
   ],
   "source": [
    "importlib.reload(dev)\n",
    "\n",
    "myProject = dev.syncMetadata(\n",
    "    projectPath,\n",
    "    siteID = 'SCL',\n",
    "    )"
   ]
  },
  {
   "cell_type": "code",
   "execution_count": 52,
   "metadata": {},
   "outputs": [
    {
     "name": "stdout",
     "output_type": "stream",
     "text": [
      "RecordNumber:\n",
      "  unit: ''\n",
      "  dataType: int32\n",
      "  import: false\n",
      "Date_Time:\n",
      "  unit: ' GMT+00:00'\n",
      "  dataType: object\n",
      "  import: false\n",
      "Temp_LBL_5:\n",
      "  unit: ' °C '\n",
      "  dataType: float32\n",
      "  import: false\n",
      "Temp_LBL_25:\n",
      "  unit: ' °C '\n",
      "  dataType: float32\n",
      "  import: false\n",
      "Temp_LBL_50:\n",
      "  unit: ' °C '\n",
      "  dataType: float32\n",
      "  import: false\n",
      "Temp_LBL_100:\n",
      "  unit: ' °C '\n",
      "  dataType: float32\n",
      "  import: false\n",
      "Host_Connected:\n",
      "  unit: 'LGR S/N: 20750527'\n",
      "  dataType: object\n",
      "  import: false\n",
      "Stopped:\n",
      "  unit: 'LGR S/N: 20750527'\n",
      "  dataType: object\n",
      "  import: false\n",
      "End_Of_File:\n",
      "  unit: 'LGR S/N: 20750527'\n",
      "  dataType: object\n",
      "  import: false\n",
      "\n"
     ]
    }
   ],
   "source": [
    "firstStage = myProject.projectConfig['Processing']['firstStage'].copy()\n",
    "default = firstStage.pop('defaultVariable')\n",
    "for variable,info in myProject.current['Header'].items():\n",
    "    firstStage[variable] = default.copy()\n",
    "    firstStage[variable]['unit'] = info['unit']\n",
    "    if firstStage[variable]['dataType']!=info['dataType']:\n",
    "        firstStage[variable]['import']= False\n",
    "        firstStage[variable]['dataType']=info['dataType']\n",
    "\n",
    "import yaml\n",
    "\n",
    "print(yaml.dump(firstStage,allow_unicode=True,sort_keys=False))\n"
   ]
  },
  {
   "cell_type": "code",
   "execution_count": null,
   "metadata": {},
   "outputs": [
    {
     "data": {
      "text/plain": [
       "2"
      ]
     },
     "execution_count": 29,
     "metadata": {},
     "output_type": "execute_result"
    }
   ],
   "source": [
    "a = {1:2,2:3}\n",
    "b = a.pop(1)\n",
    "b"
   ]
  }
 ],
 "metadata": {
  "kernelspec": {
   "display_name": "Python 3",
   "language": "python",
   "name": "python3"
  },
  "language_info": {
   "codemirror_mode": {
    "name": "ipython",
    "version": 3
   },
   "file_extension": ".py",
   "mimetype": "text/x-python",
   "name": "python",
   "nbconvert_exporter": "python",
   "pygments_lexer": "ipython3",
   "version": "3.10.4"
  }
 },
 "nbformat": 4,
 "nbformat_minor": 2
}
