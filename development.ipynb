{
 "cells": [
  {
   "cell_type": "code",
   "execution_count": 3,
   "metadata": {},
   "outputs": [
    {
     "name": "stdout",
     "output_type": "stream",
     "text": [
      "c:\\Users\\User\\CANFLUX\\EC_Processing_Toolkit/temp/\n"
     ]
    }
   ],
   "source": [
    "import os,shutil,importlib\n",
    "import ecProject as dev\n",
    "importlib.reload(dev)\n",
    "\n",
    "projectPath = os.getcwd()+'/temp/'\n",
    "# mp = dev.myProject(projectPath)\n",
    "# mp.projectConfig\n",
    "if os.path.isdir(projectPath):\n",
    "    print(projectPath)\n",
    "    shutil.rmtree(projectPath)\n",
    "myProject = dev.makeProject(projectPath)"
   ]
  },
  {
   "cell_type": "code",
   "execution_count": 4,
   "metadata": {},
   "outputs": [
    {
     "name": "stdout",
     "output_type": "stream",
     "text": [
      "E:\\temp\\20240724\\Flux_Data361.dat\n",
      "E:\\temp\\20240724\\Flux_Data362.dat\n",
      "E:\\temp\\20240724\\Flux_Data432.dat\n",
      "E:\\temp\\20240724\\Flux_Data433.dat\n",
      "E:\\temp\\20240724\\MetaData50.dat\n",
      "[████████████████████████████████████████████████████████████] 4/4 \n",
      "\n",
      "E:\\temp\\20240724\\MetaData51.dat\n",
      "[████████████████████████████████████████████████████████████] 1/1 \n",
      "\n",
      "E:\\temp\\20240724\\MetaData52.dat\n",
      "E:\\temp\\20240724\\MetaData53.dat\n",
      "E:\\temp\\20240724\\MetaData54.dat\n",
      "E:\\temp\\20240724\\MetaData55.dat\n",
      "E:\\temp\\20240724\\Met_Data77.dat\n",
      "[████████████████████████████████████████████████████████████] 5/5 \n",
      "\n",
      "E:\\temp\\20240724\\Met_Data78.dat\n",
      "E:\\temp\\20240724\\Met_Data79.dat\n",
      "Warning: still under development, check the timestamp\n",
      "Confirm dateutil parser works!\n",
      "[████████████████████████████████████████████████████████████] 3/3 \n",
      "\n",
      "Warning: still under development, check the timestamp\n",
      "Confirm dateutil parser works!\n",
      "[████████████████████████████████████████████████████████████] 1/1 \n",
      "\n",
      "E:\\temp\\20240724\\Pussy\\MetaData55.dat\n",
      "[████████████████████████████████████████████████████████████] 1/1 \n",
      "\n",
      "[████████████████████████████████████████████████████████████] 1/1 \n",
      "\n",
      "E:\\temp\\20240914\\WX_data.dat\n",
      "File Type Not Supported\n",
      "add case for dat\n",
      "Warning: still under development, check the timestamp\n",
      "Confirm dateutil parser works!\n",
      "Warning: still under development, check the timestamp\n",
      "Confirm dateutil parser works!\n",
      "[████████████████████████████████████████████████████████████] 1/1 \n",
      "\n",
      "E:\\temp\\20240914\\MetaData97.dat\n",
      "[████████████████████████████████████████████████████████████] 1/1 \n",
      "\n",
      "[████████████████████████████████████████████████████████████] 1/1 \n",
      "\n"
     ]
    }
   ],
   "source": [
    "importlib.reload(dev)\n",
    "\n",
    "myProject = dev.importData(\n",
    "    projectPath,\n",
    "    siteID = 'SCL',\n",
    "    inputPath = [[r'E:\\temp',s] for s in ['20240724','20240914']],\n",
    "    # inputPath=[r'E:\\temp\\\\','20240914'],\n",
    "    # inputPath=r'E:\\GSC_Work\\SCL_2024',\n",
    "    # mode='map',\n",
    "    # fileType=['TOB3']\n",
    "    )"
   ]
  },
  {
   "cell_type": "code",
   "execution_count": 328,
   "metadata": {},
   "outputs": [
    {
     "name": "stdout",
     "output_type": "stream",
     "text": [
      "['RecordNumber', 'Date Time, GMT+00:00', 'Temp, °C (LGR S/N: 20750527, SEN S/N: 20750527, LBL: 5)', 'Temp, °C (LGR S/N: 20750527, SEN S/N: 20750527, LBL: 25)', 'Temp, °C (LGR S/N: 20750527, SEN S/N: 20750527, LBL: 50)', 'Temp, °C (LGR S/N: 20750527, SEN S/N: 20750527, LBL: 100)', 'Host Connected (LGR S/N: 20750527)', 'Stopped (LGR S/N: 20750527)', 'End Of File (LGR S/N: 20750527)']\n",
      "{'Type': 'HOBOcsv', 'Program': '20750527-SHSC.WSM.SGT.240720', 'Table': '20750527-SHSC.WSM.SGT.240720', 'Frequency': '1800 S', 'Timezone': 'GMT+00:00'}\n"
     ]
    }
   ],
   "source": [
    "import pandas as pd\n",
    "import numpy as np\n",
    "\n",
    "file = r\"E:\\temp\\20240914\\20750527-SHSC.WSM.SGT.240720_240913readout.csv\"\n",
    "\n",
    "class parseHoboCSV():\n",
    "    def __init__(self,log=False):\n",
    "        self.log=log\n",
    "        \n",
    "    def parse(self,file,mode=1,saveTo=None):\n",
    "        self.mode = mode\n",
    "        self.f = open(file,'r',encoding='utf-8-sig')\n",
    "        T = self.f.readline().rstrip('\\n')\n",
    "        if T.startswith('\"Plot Title: '):\n",
    "            self.isHobo = True\n",
    "        else:\n",
    "            self.isHobo = False\n",
    "            self.mode = -1\n",
    "        \n",
    "        if self.mode >= 0:\n",
    "            self.Metadata = {}\n",
    "            self.Metadata['Type'] = 'HOBOcsv'\n",
    "            self.Metadata['Program'] = T.replace('\"','').split('Plot Title: ')[-1]\n",
    "            self.Metadata['Table'] = self.Metadata['Program']\n",
    "            self.parseHeader()\n",
    "            # if self.mode >= 1:\n",
    "            #     self.readData()\n",
    "        self.f.close()\n",
    "\n",
    "    def parseHeader(self):\n",
    "        H = self.f.readline().replace('#','RecordNumber').lstrip('\"').rstrip('\"\\n').split('\",\"')\n",
    "        print(H)\n",
    "        H = [h.lstrip().rstrip(')').replace('(',',').split(',') for h in H]\n",
    "        L = [len(h) for h in H]\n",
    "        data = [h if l == max(L) else [sh for sh in h] + ['' for i in range(max(L)-l)] for h,l in zip(H,L)]\n",
    "        # data = [[sh for sh in h] + ['' for i in range(max(L)-l)] for h,l in zip(H,L)]\n",
    "        self.Header = pd.DataFrame(data = data).T\n",
    "        self.Header.columns = self.Header.iloc[0].values+self.Header.iloc[-1].values\n",
    "        self.Header.columns = self.Header.columns.str.replace(' ','_').str.replace(':','').str.rstrip('_')\n",
    "        self.Header = self.Header[1:-1].copy()\n",
    "        self.Header.index.name=''\n",
    "        self.Header.index=['Unit','Logger','Sensor']\n",
    "        self.statusCols = ['Host_Connected', 'Stopped', 'End_Of_File']\n",
    "        self.readData()\n",
    "        self.Metadata['Frequency'] = str(int(np.median(np.diff(self.Timestamp))))+' S'\n",
    "        self.Metadata['Timezone'] = self.Header['Date_Time']['Unit'].lstrip()\n",
    "        \n",
    "    def readData(self):\n",
    "        self.Data = pd.read_csv(self.f,header=None)\n",
    "        self.Data.columns = self.Header.columns\n",
    "        self.Data[self.statusCols] = self.Data[self.statusCols].ffill(limit=1)\n",
    "        keep = pd.isna(self.Data[self.statusCols]).all(axis=1)\n",
    "        self.Data = self.Data.loc[keep].copy()\n",
    "        self.Timestamp = np.array([x.timestamp() for x in pd.to_datetime(self.Data['Date_Time'],format='%y/%m/%d %H:%M:%S')])\n",
    "        \n",
    "\n",
    "\n",
    "pH = parseHoboCSV()\n",
    "pH.parse(file)\n",
    "if pH.isHobo:\n",
    "    print(pH.Metadata)"
   ]
  },
  {
   "cell_type": "code",
   "execution_count": 329,
   "metadata": {},
   "outputs": [
    {
     "data": {
      "text/html": [
       "<div>\n",
       "<style scoped>\n",
       "    .dataframe tbody tr th:only-of-type {\n",
       "        vertical-align: middle;\n",
       "    }\n",
       "\n",
       "    .dataframe tbody tr th {\n",
       "        vertical-align: top;\n",
       "    }\n",
       "\n",
       "    .dataframe thead th {\n",
       "        text-align: right;\n",
       "    }\n",
       "</style>\n",
       "<table border=\"1\" class=\"dataframe\">\n",
       "  <thead>\n",
       "    <tr style=\"text-align: right;\">\n",
       "      <th></th>\n",
       "      <th>RecordNumber</th>\n",
       "      <th>Date_Time</th>\n",
       "      <th>Temp_LBL_5</th>\n",
       "      <th>Temp_LBL_25</th>\n",
       "      <th>Temp_LBL_50</th>\n",
       "      <th>Temp_LBL_100</th>\n",
       "      <th>Host_Connected</th>\n",
       "      <th>Stopped</th>\n",
       "      <th>End_Of_File</th>\n",
       "    </tr>\n",
       "  </thead>\n",
       "  <tbody>\n",
       "    <tr>\n",
       "      <th>Unit</th>\n",
       "      <td></td>\n",
       "      <td>GMT+00:00</td>\n",
       "      <td>°C</td>\n",
       "      <td>°C</td>\n",
       "      <td>°C</td>\n",
       "      <td>°C</td>\n",
       "      <td>LGR S/N: 20750527</td>\n",
       "      <td>LGR S/N: 20750527</td>\n",
       "      <td>LGR S/N: 20750527</td>\n",
       "    </tr>\n",
       "    <tr>\n",
       "      <th>Logger</th>\n",
       "      <td></td>\n",
       "      <td></td>\n",
       "      <td>LGR S/N: 20750527</td>\n",
       "      <td>LGR S/N: 20750527</td>\n",
       "      <td>LGR S/N: 20750527</td>\n",
       "      <td>LGR S/N: 20750527</td>\n",
       "      <td></td>\n",
       "      <td></td>\n",
       "      <td></td>\n",
       "    </tr>\n",
       "    <tr>\n",
       "      <th>Sensor</th>\n",
       "      <td></td>\n",
       "      <td></td>\n",
       "      <td>SEN S/N: 20750527</td>\n",
       "      <td>SEN S/N: 20750527</td>\n",
       "      <td>SEN S/N: 20750527</td>\n",
       "      <td>SEN S/N: 20750527</td>\n",
       "      <td></td>\n",
       "      <td></td>\n",
       "      <td></td>\n",
       "    </tr>\n",
       "    <tr>\n",
       "      <th>dataType</th>\n",
       "      <td>int64</td>\n",
       "      <td>object</td>\n",
       "      <td>float64</td>\n",
       "      <td>float64</td>\n",
       "      <td>float64</td>\n",
       "      <td>float64</td>\n",
       "      <td>object</td>\n",
       "      <td>object</td>\n",
       "      <td>object</td>\n",
       "    </tr>\n",
       "  </tbody>\n",
       "</table>\n",
       "</div>"
      ],
      "text/plain": [
       "         RecordNumber   Date_Time          Temp_LBL_5         Temp_LBL_25  \\\n",
       "Unit                    GMT+00:00                 °C                  °C    \n",
       "Logger                              LGR S/N: 20750527   LGR S/N: 20750527   \n",
       "Sensor                              SEN S/N: 20750527   SEN S/N: 20750527   \n",
       "dataType        int64      object             float64             float64   \n",
       "\n",
       "                 Temp_LBL_50        Temp_LBL_100     Host_Connected  \\\n",
       "Unit                     °C                  °C   LGR S/N: 20750527   \n",
       "Logger     LGR S/N: 20750527   LGR S/N: 20750527                      \n",
       "Sensor     SEN S/N: 20750527   SEN S/N: 20750527                      \n",
       "dataType             float64             float64             object   \n",
       "\n",
       "                    Stopped        End_Of_File  \n",
       "Unit      LGR S/N: 20750527  LGR S/N: 20750527  \n",
       "Logger                                          \n",
       "Sensor                                          \n",
       "dataType             object             object  "
      ]
     },
     "execution_count": 329,
     "metadata": {},
     "output_type": "execute_result"
    }
   ],
   "source": [
    "# pH.Data\n",
    "# pH.Header = [h for h in pH.Header]\n",
    "pH.Header.loc['dataType'] = pH.Data.dtypes\n",
    "pH.Header"
   ]
  },
  {
   "cell_type": "code",
   "execution_count": null,
   "metadata": {},
   "outputs": [
    {
     "data": {
      "text/plain": [
       "array([ True,  True,  True,  True,  True,  True, False, False, False])"
      ]
     },
     "execution_count": 247,
     "metadata": {},
     "output_type": "execute_result"
    }
   ],
   "source": []
  },
  {
   "cell_type": "code",
   "execution_count": 238,
   "metadata": {},
   "outputs": [
    {
     "data": {
      "text/plain": [
       "{'incoming': [{'Name': 'E:\\\\temp',\n",
       "   'Child': [{'Name': '20240724',\n",
       "     'Child': [{'Name': 'Flux_Data361', 'Ext': 'dat'},\n",
       "      {'Name': 'Flux_Data362', 'Ext': 'dat'},\n",
       "      {'Name': 'Flux_Data432', 'Ext': 'dat'},\n",
       "      {'Name': 'Flux_Data433', 'Ext': 'dat'},\n",
       "      {'Name': 'MetaData50', 'Ext': 'dat'},\n",
       "      {'Name': 'MetaData51', 'Ext': 'dat'},\n",
       "      {'Name': 'MetaData52', 'Ext': 'dat'},\n",
       "      {'Name': 'MetaData53', 'Ext': 'dat'},\n",
       "      {'Name': 'MetaData54', 'Ext': 'dat'},\n",
       "      {'Name': 'MetaData55', 'Ext': 'dat'},\n",
       "      {'Name': 'Met_Data77', 'Ext': 'dat'},\n",
       "      {'Name': 'Met_Data78', 'Ext': 'dat'},\n",
       "      {'Name': 'Met_Data79', 'Ext': 'dat'},\n",
       "      {'Name': '20750527-SHSC.WSM.SGT.240720_240724readout', 'Ext': 'csv'},\n",
       "      {'Name': '20750528-SHSC.SSM.SGT.240720_240724readout',\n",
       "       'Ext': 'csv'}]}]}]}"
      ]
     },
     "execution_count": 238,
     "metadata": {},
     "output_type": "execute_result"
    }
   ],
   "source": [
    "myProject.fileInventory"
   ]
  },
  {
   "cell_type": "code",
   "execution_count": 189,
   "metadata": {},
   "outputs": [
    {
     "name": "stdout",
     "output_type": "stream",
     "text": [
      "E:\\temp\\20240724\n",
      "20240724\n",
      "['E:\\\\temp\\\\20240724\\\\Flux_Data361.dat', 'E:\\\\temp\\\\20240724\\\\Flux_Data362.dat', 'E:\\\\temp\\\\20240724\\\\Flux_Data432.dat', 'E:\\\\temp\\\\20240724\\\\Flux_Data433.dat', 'E:\\\\temp\\\\20240724\\\\MetaData50.dat', 'E:\\\\temp\\\\20240724\\\\MetaData51.dat', 'E:\\\\temp\\\\20240724\\\\MetaData52.dat', 'E:\\\\temp\\\\20240724\\\\MetaData53.dat', 'E:\\\\temp\\\\20240724\\\\MetaData54.dat', 'E:\\\\temp\\\\20240724\\\\MetaData55.dat', 'E:\\\\temp\\\\20240724\\\\Met_Data77.dat', 'E:\\\\temp\\\\20240724\\\\Met_Data78.dat', 'E:\\\\temp\\\\20240724\\\\Met_Data79.dat', 'E:\\\\temp\\\\20240724\\\\20750527-SHSC.WSM.SGT.240720_240724readout.csv', 'E:\\\\temp\\\\20240724\\\\20750528-SHSC.SSM.SGT.240720_240724readout.csv']\n",
      "20240724 E:\\temp\n"
     ]
    }
   ],
   "source": [
    "f = myProject.fileInventory['incoming'][0]\n",
    "# f['Name']\n",
    "# f\n",
    "def unpack(child,name,root=None):\n",
    "    pth = []\n",
    "    if type(child) == list:\n",
    "        for c in child:\n",
    "            if type(c) == dict and 'Child' in c.keys():\n",
    "                pth,name,root = unpack(c['Child'],os.path.join(name,c['Name']),name)\n",
    "            else:\n",
    "                pth.append(os.path.join(name,c['Name']+'.'+c['Ext']))\n",
    "        print(name)\n",
    "        return(pth,name.split(os.path.join(root,''))[-1],root)\n",
    "    else:\n",
    "        if 'Child' in child.keys():\n",
    "            pth,name,root = unpack(child['Child'],os.path.join(name,child['Name']),name)\n",
    "        else:\n",
    "            pth.append(os.path.join(name,child['Name']+'.'+child['Ext']))\n",
    "        print(name)\n",
    "        return(pth,name.split(os.path.join(root,''))[-1],root)\n",
    "pth,name,root = unpack(f['Child'],f['Name'])\n",
    "# pth,name,root = unpack(f['Child'][0],f['Name'])\n",
    "print(pth)\n",
    "print(name,root)"
   ]
  },
  {
   "cell_type": "code",
   "execution_count": 68,
   "metadata": {},
   "outputs": [
    {
     "name": "stdout",
     "output_type": "stream",
     "text": [
      "FIL CR1000\n",
      "Searching  D:\\MetStationData\\FishIsland\n",
      "Warning!!\n",
      "\n",
      "Unable to parse date pattern from input file, proceeding without\n",
      "Creating template:  D:\\temp\\ArcticFlux\\rawSiteData/FIL/TOA5/Met/metaData.yml \n",
      "\n",
      "Edit this file before proceeding with import\n",
      "\n",
      "\n",
      "Copying:[████████████████████████████████████████████████████████████] 1/1 \n",
      "\n",
      "SCL Met_Data\n",
      "Outstanding imports:  1\n",
      "Searching  D:\\highfreq\\SCL\\CardConvertDump\n",
      "Creating template:  D:\\temp\\ArcticFlux\\rawSiteData/SCL/TOA5/Met/metaData.yml \n",
      "\n",
      "Edit this file before proceeding with import\n",
      "\n",
      "\n",
      "Copying:[████████████████████████████████████████████████████████████] 10/10 \n",
      "\n",
      "Copying:[████████████████████████████████████████████████████████████] 31/31 \n",
      "\n",
      "Copying:[████████████████████████████████████████████████████████████] 13/13 \n",
      "\n"
     ]
    }
   ],
   "source": [
    "import os,shutil,importlib\n",
    "import development as dev\n",
    "importlib.reload(dev)\n",
    "\n",
    "projectPath = 'D:/temp/ArcticFlux'\n",
    "\n",
    "for ID,tag,dIn in zip(['FIL','SCL'],\n",
    "                  ['CR1000','Met_Data'],\n",
    "                  ['D:\\\\MetStationData\\\\FishIsland',\n",
    "                  'D:\\\\highfreq\\SCL\\\\CardConvertDump'\n",
    "                  ]\n",
    "                  ):\n",
    "    print(ID,tag)\n",
    "    myProject = dev.dataDump(projectPath,\n",
    "                            siteID=ID,\n",
    "                            dIn=dIn,\n",
    "                            fileType='TOA5',\n",
    "                            searchTag = tag,\n",
    "                            subPath='Met'\n",
    "                            )\n"
   ]
  }
 ],
 "metadata": {
  "kernelspec": {
   "display_name": "Python 3",
   "language": "python",
   "name": "python3"
  },
  "language_info": {
   "codemirror_mode": {
    "name": "ipython",
    "version": 3
   },
   "file_extension": ".py",
   "mimetype": "text/x-python",
   "name": "python",
   "nbconvert_exporter": "python",
   "pygments_lexer": "ipython3",
   "version": "3.11.5"
  }
 },
 "nbformat": 4,
 "nbformat_minor": 2
}
